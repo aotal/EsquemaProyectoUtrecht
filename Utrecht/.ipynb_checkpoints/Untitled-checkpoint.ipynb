{
 "cells": [
  {
   "cell_type": "code",
   "execution_count": 1,
   "id": "perfect-fifth",
   "metadata": {},
   "outputs": [],
   "source": [
    "import pydicom as dc"
   ]
  },
  {
   "cell_type": "code",
   "execution_count": 2,
   "id": "russian-companion",
   "metadata": {},
   "outputs": [],
   "source": [
    "import pandas as pd"
   ]
  },
  {
   "cell_type": "code",
   "execution_count": 3,
   "id": "limited-farming",
   "metadata": {},
   "outputs": [],
   "source": [
    "plansimple=dc.read_file('Ficheros/PlanSimple.dcm')\n",
    "plancomplejo=dc.read_file('Ficheros/PlanComplejo.dcm')\n",
    "plancomplejo2=dc.read_file('Ficheros/PlanComplejo2.dcm')"
   ]
  },
  {
   "cell_type": "code",
   "execution_count": 4,
   "id": "nasty-example",
   "metadata": {},
   "outputs": [],
   "source": [
    "imagen=dc.read_file('Ficheros/MR1.3.6.1.4.1.2452.6.1019122476.1241727211.1770477973.3491608041.dcm')"
   ]
  },
  {
   "cell_type": "code",
   "execution_count": 5,
   "id": "accessory-petersburg",
   "metadata": {},
   "outputs": [],
   "source": [
    "planlist=plansimple.dir()\n",
    "planlist2=plancomplejo.dir()\n",
    "imagenlist=imagen.dir()"
   ]
  },
  {
   "cell_type": "code",
   "execution_count": 6,
   "id": "behind-carol",
   "metadata": {},
   "outputs": [],
   "source": [
    "common=[]\n",
    "noncommon=[]\n",
    "for x in planlist:\n",
    "    if x in imagenlist:\n",
    "        common.append(x)\n",
    "    else:\n",
    "        noncommon.append(x)"
   ]
  },
  {
   "cell_type": "code",
   "execution_count": 7,
   "id": "bottom-semiconductor",
   "metadata": {},
   "outputs": [
    {
     "data": {
      "text/plain": [
       "23"
      ]
     },
     "execution_count": 7,
     "metadata": {},
     "output_type": "execute_result"
    }
   ],
   "source": [
    "len(common)"
   ]
  },
  {
   "cell_type": "code",
   "execution_count": 8,
   "id": "closed-amateur",
   "metadata": {},
   "outputs": [
    {
     "data": {
      "text/plain": [
       "['ApplicationSetupSequence',\n",
       " 'ApprovalStatus',\n",
       " 'BrachyTreatmentTechnique',\n",
       " 'BrachyTreatmentType',\n",
       " 'FractionGroupSequence',\n",
       " 'InstanceCreationDate',\n",
       " 'InstanceCreationTime',\n",
       " 'InstitutionalDepartmentName',\n",
       " 'OperatorsName',\n",
       " 'RTPlanDate',\n",
       " 'RTPlanGeometry',\n",
       " 'RTPlanLabel',\n",
       " 'RTPlanName',\n",
       " 'RTPlanTime',\n",
       " 'ReferencedStructureSetSequence',\n",
       " 'SourceSequence',\n",
       " 'TimezoneOffsetFromUTC',\n",
       " 'TreatmentMachineSequence']"
      ]
     },
     "execution_count": 8,
     "metadata": {},
     "output_type": "execute_result"
    }
   ],
   "source": [
    "noncommon"
   ]
  },
  {
   "cell_type": "code",
   "execution_count": 9,
   "id": "electrical-batman",
   "metadata": {},
   "outputs": [
    {
     "data": {
      "text/plain": [
       "41"
      ]
     },
     "execution_count": 9,
     "metadata": {},
     "output_type": "execute_result"
    }
   ],
   "source": [
    "len(planlist)"
   ]
  },
  {
   "cell_type": "code",
   "execution_count": 10,
   "id": "nuclear-meaning",
   "metadata": {},
   "outputs": [],
   "source": [
    "samevalues=[]\n",
    "differentvalue=[]\n",
    "for x in common:\n",
    "    if (plansimple.data_element(x).value==imagen.data_element(x).value):\n",
    "        samevalues.append(x)\n",
    "    else:\n",
    "        differentvalue.append(x)"
   ]
  },
  {
   "cell_type": "code",
   "execution_count": 11,
   "id": "incorporated-jumping",
   "metadata": {},
   "outputs": [
    {
     "data": {
      "text/plain": [
       "['AccessionNumber',\n",
       " 'FrameOfReferenceUID',\n",
       " 'PatientBirthDate',\n",
       " 'PatientID',\n",
       " 'PatientName',\n",
       " 'PatientSex',\n",
       " 'PositionReferenceIndicator',\n",
       " 'ReferringPhysicianName',\n",
       " 'SpecificCharacterSet',\n",
       " 'StudyDate',\n",
       " 'StudyDescription',\n",
       " 'StudyID',\n",
       " 'StudyInstanceUID',\n",
       " 'StudyTime']"
      ]
     },
     "execution_count": 11,
     "metadata": {},
     "output_type": "execute_result"
    }
   ],
   "source": [
    "samevalues"
   ]
  },
  {
   "cell_type": "code",
   "execution_count": 12,
   "id": "anonymous-washington",
   "metadata": {},
   "outputs": [
    {
     "data": {
      "text/plain": [
       "['Manufacturer',\n",
       " 'ManufacturerModelName',\n",
       " 'Modality',\n",
       " 'SOPClassUID',\n",
       " 'SOPInstanceUID',\n",
       " 'SeriesInstanceUID',\n",
       " 'SeriesNumber',\n",
       " 'SoftwareVersions',\n",
       " 'StationName']"
      ]
     },
     "execution_count": 12,
     "metadata": {},
     "output_type": "execute_result"
    }
   ],
   "source": [
    "differentvalue"
   ]
  },
  {
   "cell_type": "code",
   "execution_count": 13,
   "id": "narrow-movement",
   "metadata": {},
   "outputs": [
    {
     "data": {
      "text/html": [
       "<div>\n",
       "<style scoped>\n",
       "    .dataframe tbody tr th:only-of-type {\n",
       "        vertical-align: middle;\n",
       "    }\n",
       "\n",
       "    .dataframe tbody tr th {\n",
       "        vertical-align: top;\n",
       "    }\n",
       "\n",
       "    .dataframe thead th {\n",
       "        text-align: right;\n",
       "    }\n",
       "</style>\n",
       "<table border=\"1\" class=\"dataframe\">\n",
       "  <thead>\n",
       "    <tr style=\"text-align: right;\">\n",
       "      <th></th>\n",
       "      <th>tag</th>\n",
       "      <th>plan</th>\n",
       "      <th>plan complejo</th>\n",
       "      <th>plan complejo 2</th>\n",
       "      <th>imagen</th>\n",
       "    </tr>\n",
       "  </thead>\n",
       "  <tbody>\n",
       "    <tr>\n",
       "      <th>0</th>\n",
       "      <td>Manufacturer</td>\n",
       "      <td>Nucletron</td>\n",
       "      <td>Nucletron</td>\n",
       "      <td>Nucletron</td>\n",
       "      <td>GE MEDICAL SYSTEMS</td>\n",
       "    </tr>\n",
       "    <tr>\n",
       "      <th>1</th>\n",
       "      <td>ManufacturerModelName</td>\n",
       "      <td>Oncentra</td>\n",
       "      <td>Oncentra</td>\n",
       "      <td>Oncentra</td>\n",
       "      <td>Signa HDxt</td>\n",
       "    </tr>\n",
       "    <tr>\n",
       "      <th>2</th>\n",
       "      <td>Modality</td>\n",
       "      <td>RTPLAN</td>\n",
       "      <td>RTPLAN</td>\n",
       "      <td>RTPLAN</td>\n",
       "      <td>MR</td>\n",
       "    </tr>\n",
       "    <tr>\n",
       "      <th>3</th>\n",
       "      <td>SOPClassUID</td>\n",
       "      <td>1.2.840.10008.5.1.4.1.1.481.5</td>\n",
       "      <td>1.2.840.10008.5.1.4.1.1.481.5</td>\n",
       "      <td>1.2.840.10008.5.1.4.1.1.481.5</td>\n",
       "      <td>1.2.840.10008.5.1.4.1.1.4</td>\n",
       "    </tr>\n",
       "    <tr>\n",
       "      <th>4</th>\n",
       "      <td>SOPInstanceUID</td>\n",
       "      <td>1.3.6.1.4.1.2452.6.2743304011.1151359869.12204...</td>\n",
       "      <td>1.3.6.1.4.1.2452.6.2774509762.1153355867.34264...</td>\n",
       "      <td>1.3.6.1.4.1.2452.6.2633641423.1222660011.25835...</td>\n",
       "      <td>1.3.6.1.4.1.2452.6.1019122476.1241727211.17704...</td>\n",
       "    </tr>\n",
       "    <tr>\n",
       "      <th>5</th>\n",
       "      <td>SeriesInstanceUID</td>\n",
       "      <td>1.3.6.1.4.1.2452.6.3396086542.1231529005.38488...</td>\n",
       "      <td>1.3.6.1.4.1.2452.6.2747787005.1263068138.27367...</td>\n",
       "      <td>1.3.6.1.4.1.2452.6.1938074019.1188018291.41990...</td>\n",
       "      <td>1.3.6.1.4.1.2452.6.3150457222.1106452005.39453...</td>\n",
       "    </tr>\n",
       "    <tr>\n",
       "      <th>6</th>\n",
       "      <td>SeriesNumber</td>\n",
       "      <td>1</td>\n",
       "      <td>1</td>\n",
       "      <td>1</td>\n",
       "      <td>5</td>\n",
       "    </tr>\n",
       "    <tr>\n",
       "      <th>7</th>\n",
       "      <td>SoftwareVersions</td>\n",
       "      <td>OTP V4.5.3.30</td>\n",
       "      <td>OTP V4.5.2.152</td>\n",
       "      <td>OTP V4.5.3.30</td>\n",
       "      <td>[24, LX, MR Software release:HD16.0_V03_1638.a]</td>\n",
       "    </tr>\n",
       "    <tr>\n",
       "      <th>8</th>\n",
       "      <td>StationName</td>\n",
       "      <td>RT-BRACHYT</td>\n",
       "      <td>PC009761</td>\n",
       "      <td>PC009761</td>\n",
       "      <td>NHFEMR04</td>\n",
       "    </tr>\n",
       "  </tbody>\n",
       "</table>\n",
       "</div>"
      ],
      "text/plain": [
       "                     tag                                               plan  \\\n",
       "0           Manufacturer                                          Nucletron   \n",
       "1  ManufacturerModelName                                           Oncentra   \n",
       "2               Modality                                             RTPLAN   \n",
       "3            SOPClassUID                      1.2.840.10008.5.1.4.1.1.481.5   \n",
       "4         SOPInstanceUID  1.3.6.1.4.1.2452.6.2743304011.1151359869.12204...   \n",
       "5      SeriesInstanceUID  1.3.6.1.4.1.2452.6.3396086542.1231529005.38488...   \n",
       "6           SeriesNumber                                                  1   \n",
       "7       SoftwareVersions                                      OTP V4.5.3.30   \n",
       "8            StationName                                         RT-BRACHYT   \n",
       "\n",
       "                                       plan complejo  \\\n",
       "0                                          Nucletron   \n",
       "1                                           Oncentra   \n",
       "2                                             RTPLAN   \n",
       "3                      1.2.840.10008.5.1.4.1.1.481.5   \n",
       "4  1.3.6.1.4.1.2452.6.2774509762.1153355867.34264...   \n",
       "5  1.3.6.1.4.1.2452.6.2747787005.1263068138.27367...   \n",
       "6                                                  1   \n",
       "7                                     OTP V4.5.2.152   \n",
       "8                                           PC009761   \n",
       "\n",
       "                                     plan complejo 2  \\\n",
       "0                                          Nucletron   \n",
       "1                                           Oncentra   \n",
       "2                                             RTPLAN   \n",
       "3                      1.2.840.10008.5.1.4.1.1.481.5   \n",
       "4  1.3.6.1.4.1.2452.6.2633641423.1222660011.25835...   \n",
       "5  1.3.6.1.4.1.2452.6.1938074019.1188018291.41990...   \n",
       "6                                                  1   \n",
       "7                                      OTP V4.5.3.30   \n",
       "8                                           PC009761   \n",
       "\n",
       "                                              imagen  \n",
       "0                                 GE MEDICAL SYSTEMS  \n",
       "1                                         Signa HDxt  \n",
       "2                                                 MR  \n",
       "3                          1.2.840.10008.5.1.4.1.1.4  \n",
       "4  1.3.6.1.4.1.2452.6.1019122476.1241727211.17704...  \n",
       "5  1.3.6.1.4.1.2452.6.3150457222.1106452005.39453...  \n",
       "6                                                  5  \n",
       "7    [24, LX, MR Software release:HD16.0_V03_1638.a]  \n",
       "8                                           NHFEMR04  "
      ]
     },
     "execution_count": 13,
     "metadata": {},
     "output_type": "execute_result"
    }
   ],
   "source": [
    "pd.DataFrame([[x,plansimple.data_element(x).value,plancomplejo.data_element(x).value,plancomplejo2.data_element(x).value,imagen.data_element(x).value] for x in differentvalue],columns=['tag','plan','plan complejo','plan complejo 2','imagen'])"
   ]
  },
  {
   "cell_type": "code",
   "execution_count": null,
   "id": "western-radiation",
   "metadata": {},
   "outputs": [],
   "source": [
    "plan.data_element('AccessionNumber').value"
   ]
  },
  {
   "cell_type": "code",
   "execution_count": null,
   "id": "devoted-length",
   "metadata": {},
   "outputs": [],
   "source": [
    "plan.AccessionNumber"
   ]
  },
  {
   "cell_type": "code",
   "execution_count": null,
   "id": "proper-curtis",
   "metadata": {},
   "outputs": [],
   "source": []
  },
  {
   "cell_type": "code",
   "execution_count": null,
   "id": "sound-charm",
   "metadata": {},
   "outputs": [],
   "source": [
    "imagen.dir()"
   ]
  },
  {
   "cell_type": "code",
   "execution_count": null,
   "id": "crude-purple",
   "metadata": {},
   "outputs": [],
   "source": []
  }
 ],
 "metadata": {
  "kernelspec": {
   "display_name": "Python 3",
   "language": "python",
   "name": "python3"
  },
  "language_info": {
   "codemirror_mode": {
    "name": "ipython",
    "version": 3
   },
   "file_extension": ".py",
   "mimetype": "text/x-python",
   "name": "python",
   "nbconvert_exporter": "python",
   "pygments_lexer": "ipython3",
   "version": "3.8.5"
  }
 },
 "nbformat": 4,
 "nbformat_minor": 5
}
