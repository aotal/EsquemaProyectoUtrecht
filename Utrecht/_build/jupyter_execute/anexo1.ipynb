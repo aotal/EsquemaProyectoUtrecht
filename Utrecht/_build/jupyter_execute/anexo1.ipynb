{
 "cells": [
  {
   "cell_type": "code",
   "execution_count": 1,
   "id": "numerical-foundation",
   "metadata": {
    "tags": [
     "remove-input"
    ]
   },
   "outputs": [],
   "source": [
    "import pandas as pd\n",
    "from myst_nb import glue"
   ]
  },
  {
   "cell_type": "code",
   "execution_count": 2,
   "id": "essential-workstation",
   "metadata": {
    "tags": []
   },
   "outputs": [],
   "source": [
    "import uuid\n",
    "from datetime import datetime"
   ]
  },
  {
   "cell_type": "markdown",
   "id": "given-personality",
   "metadata": {},
   "source": [
    "# Anexo 1: Creación y exportación Dicom"
   ]
  },
  {
   "cell_type": "markdown",
   "id": "meaningful-warrior",
   "metadata": {},
   "source": [
    "## Introducción"
   ]
  },
  {
   "cell_type": "markdown",
   "id": "mobile-ancient",
   "metadata": {},
   "source": [
    "Como proyecto paralelo a la reconstrucción completamente automática y utilizando la herramienta de [anotación](capitulo:anotation) que hemos desarrollado, podemos utilizar el resultado que proporciona la herramienta para hacer un uso clínico del mismo, es decir, incorporar la reconstrucción realizada al flujo de trabajo. Para ello vamos a investigar la estrura de los ficheros dicom de imágenes y ejemplos de exportación del plan para generar uno que pueda ser importado en Oncentra con la reconstrucción ya hecha."
   ]
  },
  {
   "cell_type": "markdown",
   "id": "fresh-queen",
   "metadata": {},
   "source": [
    "## Tags comunes entre imágenes y plan: "
   ]
  },
  {
   "cell_type": "markdown",
   "id": "monetary-locator",
   "metadata": {},
   "source": [
    "Hay 23 tags comunes entre un fichero de secuencia de imágenes y uno tipo RTPlan. De ellos, 14 poseen el mismo valor y por lo tanto el mismo viene definido de la MRI. La lista es:"
   ]
  },
  {
   "cell_type": "markdown",
   "id": "declared-burst",
   "metadata": {},
   "source": [
    "<ul><li>AccessionNumber</li><li>FrameOfReferenceUID</li><li>PatientBirthDate</li><li>PatientID</li><li>PatientName</li><li>PatientSex</li><li>PositionReferenceIndicator</li><li>ReferringPhysicianName</li><li>SpecificCharacterSet</li><li>StudyDate</li><li>StudyDescription</li><li>StudyID</li><li>StudyInstanceUID</li><li>StudyTime</li></ul>"
   ]
  },
  {
   "cell_type": "markdown",
   "id": "egyptian-check",
   "metadata": {},
   "source": [
    "### Tags de diferente valor"
   ]
  },
  {
   "cell_type": "markdown",
   "id": "defined-wyoming",
   "metadata": {},
   "source": [
    "Los 9 que nos quedan se muestran en la tabla siguiente con valores ejemplo de tres planes diferentes y de un archivo de imagen:"
   ]
  },
  {
   "cell_type": "code",
   "execution_count": 3,
   "id": "entire-earthquake",
   "metadata": {
    "tags": [
     "remove-input"
    ]
   },
   "outputs": [
    {
     "data": {
      "text/html": [
       "<div>\n",
       "<style scoped>\n",
       "    .dataframe tbody tr th:only-of-type {\n",
       "        vertical-align: middle;\n",
       "    }\n",
       "\n",
       "    .dataframe tbody tr th {\n",
       "        vertical-align: top;\n",
       "    }\n",
       "\n",
       "    .dataframe thead th {\n",
       "        text-align: right;\n",
       "    }\n",
       "</style>\n",
       "<table border=\"1\" class=\"dataframe\">\n",
       "  <thead>\n",
       "    <tr style=\"text-align: right;\">\n",
       "      <th></th>\n",
       "      <th>Plan1</th>\n",
       "      <th>Plan2</th>\n",
       "      <th>Plan3</th>\n",
       "      <th>Imagen</th>\n",
       "    </tr>\n",
       "    <tr>\n",
       "      <th>tag</th>\n",
       "      <th></th>\n",
       "      <th></th>\n",
       "      <th></th>\n",
       "      <th></th>\n",
       "    </tr>\n",
       "  </thead>\n",
       "  <tbody>\n",
       "    <tr>\n",
       "      <th>Manufacturer</th>\n",
       "      <td>Nucletron</td>\n",
       "      <td>Nucletron</td>\n",
       "      <td>Nucletron</td>\n",
       "      <td>GE MEDICAL SYSTEMS</td>\n",
       "    </tr>\n",
       "    <tr>\n",
       "      <th>ManufacturerModelName</th>\n",
       "      <td>Oncentra</td>\n",
       "      <td>Oncentra</td>\n",
       "      <td>Oncentra</td>\n",
       "      <td>Signa HDxt</td>\n",
       "    </tr>\n",
       "    <tr>\n",
       "      <th>Modality</th>\n",
       "      <td>RTPLAN</td>\n",
       "      <td>RTPLAN</td>\n",
       "      <td>RTPLAN</td>\n",
       "      <td>MR</td>\n",
       "    </tr>\n",
       "    <tr>\n",
       "      <th>SOPClassUID</th>\n",
       "      <td>1.2.840.10008.5.1.4.1.1.481.5</td>\n",
       "      <td>1.2.840.10008.5.1.4.1.1.481.5</td>\n",
       "      <td>1.2.840.10008.5.1.4.1.1.481.5</td>\n",
       "      <td>1.2.840.10008.5.1.4.1.1.4</td>\n",
       "    </tr>\n",
       "    <tr>\n",
       "      <th>SOPInstanceUID</th>\n",
       "      <td>1.3.6.1.4.1.2452.6.2743304011.1151359869.12204...</td>\n",
       "      <td>1.3.6.1.4.1.2452.6.2774509762.1153355867.34264...</td>\n",
       "      <td>1.3.6.1.4.1.2452.6.2633641423.1222660011.25835...</td>\n",
       "      <td>1.3.6.1.4.1.2452.6.1019122476.1241727211.17704...</td>\n",
       "    </tr>\n",
       "    <tr>\n",
       "      <th>SeriesInstanceUID</th>\n",
       "      <td>1.3.6.1.4.1.2452.6.3396086542.1231529005.38488...</td>\n",
       "      <td>1.3.6.1.4.1.2452.6.2747787005.1263068138.27367...</td>\n",
       "      <td>1.3.6.1.4.1.2452.6.1938074019.1188018291.41990...</td>\n",
       "      <td>1.3.6.1.4.1.2452.6.3150457222.1106452005.39453...</td>\n",
       "    </tr>\n",
       "    <tr>\n",
       "      <th>SeriesNumber</th>\n",
       "      <td>1</td>\n",
       "      <td>1</td>\n",
       "      <td>1</td>\n",
       "      <td>5</td>\n",
       "    </tr>\n",
       "    <tr>\n",
       "      <th>SoftwareVersions</th>\n",
       "      <td>OTP V4.5.3.30</td>\n",
       "      <td>OTP V4.5.2.152</td>\n",
       "      <td>OTP V4.5.3.30</td>\n",
       "      <td>['24', 'LX', 'MR Software release:HD16.0_V03_1...</td>\n",
       "    </tr>\n",
       "    <tr>\n",
       "      <th>StationName</th>\n",
       "      <td>RT-BRACHYT</td>\n",
       "      <td>PC009761</td>\n",
       "      <td>PC009761</td>\n",
       "      <td>NHFEMR04</td>\n",
       "    </tr>\n",
       "  </tbody>\n",
       "</table>\n",
       "</div>"
      ],
      "text/plain": [
       "                                                                   Plan1  \\\n",
       "tag                                                                        \n",
       "Manufacturer                                                   Nucletron   \n",
       "ManufacturerModelName                                           Oncentra   \n",
       "Modality                                                          RTPLAN   \n",
       "SOPClassUID                                1.2.840.10008.5.1.4.1.1.481.5   \n",
       "SOPInstanceUID         1.3.6.1.4.1.2452.6.2743304011.1151359869.12204...   \n",
       "SeriesInstanceUID      1.3.6.1.4.1.2452.6.3396086542.1231529005.38488...   \n",
       "SeriesNumber                                                           1   \n",
       "SoftwareVersions                                           OTP V4.5.3.30   \n",
       "StationName                                                   RT-BRACHYT   \n",
       "\n",
       "                                                                   Plan2  \\\n",
       "tag                                                                        \n",
       "Manufacturer                                                   Nucletron   \n",
       "ManufacturerModelName                                           Oncentra   \n",
       "Modality                                                          RTPLAN   \n",
       "SOPClassUID                                1.2.840.10008.5.1.4.1.1.481.5   \n",
       "SOPInstanceUID         1.3.6.1.4.1.2452.6.2774509762.1153355867.34264...   \n",
       "SeriesInstanceUID      1.3.6.1.4.1.2452.6.2747787005.1263068138.27367...   \n",
       "SeriesNumber                                                           1   \n",
       "SoftwareVersions                                          OTP V4.5.2.152   \n",
       "StationName                                                     PC009761   \n",
       "\n",
       "                                                                   Plan3  \\\n",
       "tag                                                                        \n",
       "Manufacturer                                                   Nucletron   \n",
       "ManufacturerModelName                                           Oncentra   \n",
       "Modality                                                          RTPLAN   \n",
       "SOPClassUID                                1.2.840.10008.5.1.4.1.1.481.5   \n",
       "SOPInstanceUID         1.3.6.1.4.1.2452.6.2633641423.1222660011.25835...   \n",
       "SeriesInstanceUID      1.3.6.1.4.1.2452.6.1938074019.1188018291.41990...   \n",
       "SeriesNumber                                                           1   \n",
       "SoftwareVersions                                           OTP V4.5.3.30   \n",
       "StationName                                                     PC009761   \n",
       "\n",
       "                                                                  Imagen  \n",
       "tag                                                                       \n",
       "Manufacturer                                          GE MEDICAL SYSTEMS  \n",
       "ManufacturerModelName                                         Signa HDxt  \n",
       "Modality                                                              MR  \n",
       "SOPClassUID                                    1.2.840.10008.5.1.4.1.1.4  \n",
       "SOPInstanceUID         1.3.6.1.4.1.2452.6.1019122476.1241727211.17704...  \n",
       "SeriesInstanceUID      1.3.6.1.4.1.2452.6.3150457222.1106452005.39453...  \n",
       "SeriesNumber                                                           5  \n",
       "SoftwareVersions       ['24', 'LX', 'MR Software release:HD16.0_V03_1...  \n",
       "StationName                                                     NHFEMR04  "
      ]
     },
     "execution_count": 3,
     "metadata": {},
     "output_type": "execute_result"
    }
   ],
   "source": [
    "campos=pd.read_csv('data/camposnocomunes.csv')\n",
    "campos.set_index('tag')"
   ]
  },
  {
   "cell_type": "markdown",
   "id": "casual-shipping",
   "metadata": {},
   "source": [
    "Hay una serie de ellos que no nos van a suponer ningún problema. No obstante detengámonos en cada uno de ellos"
   ]
  },
  {
   "cell_type": "markdown",
   "id": "interior-marine",
   "metadata": {},
   "source": [
    "#### Manufacter y ManufacturerModelName"
   ]
  },
  {
   "cell_type": "markdown",
   "id": "saving-discount",
   "metadata": {},
   "source": [
    "Podemos poner en ambos el nombre que queramos por ejemplo **IRIMED** y **UtrechtTool**"
   ]
  },
  {
   "cell_type": "markdown",
   "id": "equal-collection",
   "metadata": {},
   "source": [
    "#### Modality"
   ]
  },
  {
   "cell_type": "markdown",
   "id": "terminal-location",
   "metadata": {},
   "source": [
    "Esta debe ser obligatoriamente **RTPlan**"
   ]
  },
  {
   "cell_type": "markdown",
   "id": "sized-progress",
   "metadata": {},
   "source": [
    "#### SeriesNumber"
   ]
  },
  {
   "cell_type": "markdown",
   "id": "published-relationship",
   "metadata": {},
   "source": [
    "En esta pondremos **1**"
   ]
  },
  {
   "cell_type": "markdown",
   "id": "temporal-riding",
   "metadata": {},
   "source": [
    "#### SoftwareVersion y StationName"
   ]
  },
  {
   "cell_type": "markdown",
   "id": "furnished-philosophy",
   "metadata": {},
   "source": [
    "De momento pondremos **1.0** para la primera y **3DSlicer** para la segunda."
   ]
  },
  {
   "cell_type": "markdown",
   "id": "aquatic-aggregate",
   "metadata": {},
   "source": [
    "Ahora entramos en los campos no tan evidentes"
   ]
  },
  {
   "cell_type": "markdown",
   "id": "charming-transcription",
   "metadata": {},
   "source": [
    "#### SOPClassUID"
   ]
  },
  {
   "cell_type": "markdown",
   "id": "decimal-place",
   "metadata": {},
   "source": [
    "Por lo que vemos en los diferentes planes, este valor es común. EL valor **1.2.840.10008.5.1.4.1.1.481.5** corresponde a un _Radiation Therapy Plan Storage_."
   ]
  },
  {
   "cell_type": "markdown",
   "id": "sweet-worst",
   "metadata": {},
   "source": [
    "#### SOPInstanceUID y SeriesInstanceUID"
   ]
  },
  {
   "cell_type": "markdown",
   "id": "automotive-selection",
   "metadata": {},
   "source": [
    "En el caso de estos dos valores las cosas no están tan claras. Parece que poseeen el mismo prefijo que sus equivalentes en el fichero de imagen. La segunda parte corresponde a un número aleatorio de entre 39 y 40 cifras separado en grupos de 10 por puntos. Así pues los generamos con el siguiente código:"
   ]
  },
  {
   "cell_type": "code",
   "execution_count": 4,
   "id": "popular-columbia",
   "metadata": {},
   "outputs": [
    {
     "data": {
      "text/plain": [
       "'1.3.6.1.4.1.2452.6.1006409150.4538441387.0283226552.731930019'"
      ]
     },
     "execution_count": 4,
     "metadata": {},
     "output_type": "execute_result"
    }
   ],
   "source": [
    "prefix='1.3.6.1.4.1.2452.6.'\n",
    "def UIDgenerator(prefix):\n",
    "    while True:\n",
    "        uid=str(uuid.uuid4().int)\n",
    "        if (len(uid)>=39):\n",
    "             return prefix+uid[0:10]+'.'+uid[10:20]+'.'+uid[20:30]+'.'+uid[30:]\n",
    "UIDgenerator(prefix)"
   ]
  },
  {
   "cell_type": "markdown",
   "id": "wanted-bench",
   "metadata": {},
   "source": [
    "## Tags no comunes"
   ]
  },
  {
   "cell_type": "markdown",
   "id": "becoming-works",
   "metadata": {},
   "source": [
    "### Tags no sequence"
   ]
  },
  {
   "cell_type": "markdown",
   "id": "dependent-storm",
   "metadata": {},
   "source": [
    "<ul><li>ApprovalStatus</li><li>BrachyTreatmentTechnique</li><li>BrachyTreatmentType</li><li>InstanceCreationDate</li><li>InstanceCreationTime</li><li>InstitutionalDepartmentName</li><li>OperatorsName</li><li>RTPlanDate</li><li>RTPlanGeometry</li><li>RTPlanLabel</li><li>RTPlanName</li><li>RTPlanTime</li><li>TimezoneOffsetFromUTC</li></ul>"
   ]
  },
  {
   "cell_type": "markdown",
   "id": "organic-tissue",
   "metadata": {},
   "source": [
    "#### ApprovalStatus\n",
    "\n",
    "El valor será **UNAPPROVED**"
   ]
  },
  {
   "cell_type": "markdown",
   "id": "planned-stretch",
   "metadata": {},
   "source": [
    "#### BrachyTreatmentTechnique\n",
    "\n",
    "Pondremos valor **INTERSTITIAL**"
   ]
  },
  {
   "cell_type": "markdown",
   "id": "micro-aircraft",
   "metadata": {},
   "source": [
    "#### BrachyTreatmentType\n",
    "El valor es **HDR**"
   ]
  },
  {
   "cell_type": "markdown",
   "id": "valid-draft",
   "metadata": {},
   "source": [
    "#### InstanceCreationDate y InstanceCreationTime\n",
    "Fecha del día de la creación del plan en formato AAAAMMDD y la hora HHMMSS"
   ]
  },
  {
   "cell_type": "code",
   "execution_count": 5,
   "id": "handmade-mapping",
   "metadata": {},
   "outputs": [
    {
     "name": "stdout",
     "output_type": "stream",
     "text": [
      "20210325 152542\n"
     ]
    }
   ],
   "source": [
    "Hoy=datetime.today()\n",
    "print(Hoy.strftime(\"%Y%m%d\"),Hoy.strftime(\"%H%M%S\"))"
   ]
  },
  {
   "cell_type": "markdown",
   "id": "considerable-roommate",
   "metadata": {},
   "source": [
    "#### OperatorsName\n",
    "\n",
    "Cuanquiera. **Plan** por ejemplo."
   ]
  },
  {
   "cell_type": "markdown",
   "id": "southwest-asbestos",
   "metadata": {},
   "source": [
    "#### RTPlanDate\n",
    "\n",
    "La misma que **InstanceCreationTime**"
   ]
  },
  {
   "cell_type": "markdown",
   "id": "martial-answer",
   "metadata": {},
   "source": [
    "#### RTPlanGeometry\n",
    "El valor es **PATIENT**"
   ]
  },
  {
   "cell_type": "markdown",
   "id": "loose-pointer",
   "metadata": {},
   "source": [
    "#### RTPlanLabel y RTPlanName\n",
    "Por ejemplo **IRIMED** en ambos"
   ]
  },
  {
   "cell_type": "markdown",
   "id": "sweet-penguin",
   "metadata": {},
   "source": [
    "#### RTPlanTime\n",
    "El mismo valor que InstanceCreationTime"
   ]
  },
  {
   "cell_type": "markdown",
   "id": "diagnostic-arctic",
   "metadata": {},
   "source": [
    "#### TimezoneOffsetFromUTC\n",
    "Habrá que verificar el horario en ese momento. No creemos que sea importante ya que no influye en la reconstrucción"
   ]
  }
 ],
 "metadata": {
  "kernelspec": {
   "display_name": "JBook",
   "language": "python",
   "name": "book"
  },
  "language_info": {
   "codemirror_mode": {
    "name": "ipython",
    "version": 3
   },
   "file_extension": ".py",
   "mimetype": "text/x-python",
   "name": "python",
   "nbconvert_exporter": "python",
   "pygments_lexer": "ipython3",
   "version": "3.7.10"
  }
 },
 "nbformat": 4,
 "nbformat_minor": 5
}