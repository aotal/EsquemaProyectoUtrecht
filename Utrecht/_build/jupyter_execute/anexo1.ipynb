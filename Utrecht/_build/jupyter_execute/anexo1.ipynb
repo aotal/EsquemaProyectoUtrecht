{
 "cells": [
  {
   "cell_type": "code",
   "execution_count": 1,
   "id": "rubber-submission",
   "metadata": {
    "tags": [
     "remove-input"
    ]
   },
   "outputs": [],
   "source": [
    "import pandas as pd"
   ]
  },
  {
   "cell_type": "markdown",
   "id": "touched-interaction",
   "metadata": {},
   "source": [
    "# Anexo 1: Creación y exportación Dicom"
   ]
  },
  {
   "cell_type": "markdown",
   "id": "sitting-crowd",
   "metadata": {},
   "source": [
    "## Introducción"
   ]
  },
  {
   "cell_type": "markdown",
   "id": "shared-parking",
   "metadata": {},
   "source": [
    "Como proyecto paralelo a la reconstrucción completamente automática y utilizando la herramienta de [anotación](capitulo:anotation) que hemos desarrollado, podemos utilizar el resultado que proporciona la herramienta para hacer un uso clínico del mismo, es decir, incorporar la reconstrucción realizada al flujo de trabajo. Para ello vamos a investigar la estrura de los ficheros dicom de imágenes y ejemplos de exportación del plan para generar uno que pueda ser importado en Oncentra con la reconstrucción ya hecha."
   ]
  },
  {
   "cell_type": "markdown",
   "id": "refined-grove",
   "metadata": {},
   "source": [
    "## Tags comunes entre imágenes y plan: "
   ]
  },
  {
   "cell_type": "markdown",
   "id": "domestic-telling",
   "metadata": {},
   "source": [
    "Hay 23 tags comunes entre un fichero de secuencia de imágenes y uno tipo RTPlan. De ellos, 14 poseen el mismo valor y por lo tanto el mismo viene definido de la MRI. La lista es:"
   ]
  },
  {
   "cell_type": "markdown",
   "id": "given-eugene",
   "metadata": {},
   "source": [
    "<ul><li>AccessionNumber</li><li>FrameOfReferenceUID</li><li>PatientBirthDate</li><li>PatientID</li><li>PatientName</li><li>PatientSex</li><li>PositionReferenceIndicator</li><li>ReferringPhysicianName</li><li>SpecificCharacterSet</li><li>StudyDate</li><li>StudyDescription</li><li>StudyID</li><li>StudyInstanceUID</li><li>StudyTime</li></ul>"
   ]
  },
  {
   "cell_type": "markdown",
   "id": "velvet-announcement",
   "metadata": {},
   "source": [
    "### Tags de diferente valor"
   ]
  },
  {
   "cell_type": "markdown",
   "id": "pursuant-element",
   "metadata": {},
   "source": [
    "Los 9 que nos quedan son:"
   ]
  },
  {
   "cell_type": "markdown",
   "id": "broad-transportation",
   "metadata": {},
   "source": [
    "<ul><li>Manufacturer</li><li>ManufacturerModelName</li><li>Modality</li><li>SOPClassUID</li><li>SOPInstanceUID</li><li>SeriesInstanceUID</li><li>SeriesNumber</li><li>SoftwareVersions</li><li>StationName</li></ul>"
   ]
  },
  {
   "cell_type": "code",
   "execution_count": 2,
   "id": "intermediate-flavor",
   "metadata": {
    "tags": [
     "remove-input"
    ]
   },
   "outputs": [
    {
     "data": {
      "text/html": [
       "<div>\n",
       "<style scoped>\n",
       "    .dataframe tbody tr th:only-of-type {\n",
       "        vertical-align: middle;\n",
       "    }\n",
       "\n",
       "    .dataframe tbody tr th {\n",
       "        vertical-align: top;\n",
       "    }\n",
       "\n",
       "    .dataframe thead th {\n",
       "        text-align: right;\n",
       "    }\n",
       "</style>\n",
       "<table border=\"1\" class=\"dataframe\">\n",
       "  <thead>\n",
       "    <tr style=\"text-align: right;\">\n",
       "      <th></th>\n",
       "      <th>Plan1</th>\n",
       "      <th>Plan2</th>\n",
       "      <th>Plan3</th>\n",
       "      <th>Imagen</th>\n",
       "    </tr>\n",
       "    <tr>\n",
       "      <th>tag</th>\n",
       "      <th></th>\n",
       "      <th></th>\n",
       "      <th></th>\n",
       "      <th></th>\n",
       "    </tr>\n",
       "  </thead>\n",
       "  <tbody>\n",
       "    <tr>\n",
       "      <th>Manufacturer</th>\n",
       "      <td>Nucletron</td>\n",
       "      <td>Nucletron</td>\n",
       "      <td>Nucletron</td>\n",
       "      <td>GE MEDICAL SYSTEMS</td>\n",
       "    </tr>\n",
       "    <tr>\n",
       "      <th>ManufacturerModelName</th>\n",
       "      <td>Oncentra</td>\n",
       "      <td>Oncentra</td>\n",
       "      <td>Oncentra</td>\n",
       "      <td>Signa HDxt</td>\n",
       "    </tr>\n",
       "    <tr>\n",
       "      <th>Modality</th>\n",
       "      <td>RTPLAN</td>\n",
       "      <td>RTPLAN</td>\n",
       "      <td>RTPLAN</td>\n",
       "      <td>MR</td>\n",
       "    </tr>\n",
       "    <tr>\n",
       "      <th>SOPClassUID</th>\n",
       "      <td>1.2.840.10008.5.1.4.1.1.481.5</td>\n",
       "      <td>1.2.840.10008.5.1.4.1.1.481.5</td>\n",
       "      <td>1.2.840.10008.5.1.4.1.1.481.5</td>\n",
       "      <td>1.2.840.10008.5.1.4.1.1.4</td>\n",
       "    </tr>\n",
       "    <tr>\n",
       "      <th>SOPInstanceUID</th>\n",
       "      <td>1.3.6.1.4.1.2452.6.2743304011.1151359869.12204...</td>\n",
       "      <td>1.3.6.1.4.1.2452.6.2774509762.1153355867.34264...</td>\n",
       "      <td>1.3.6.1.4.1.2452.6.2633641423.1222660011.25835...</td>\n",
       "      <td>1.3.6.1.4.1.2452.6.1019122476.1241727211.17704...</td>\n",
       "    </tr>\n",
       "    <tr>\n",
       "      <th>SeriesInstanceUID</th>\n",
       "      <td>1.3.6.1.4.1.2452.6.3396086542.1231529005.38488...</td>\n",
       "      <td>1.3.6.1.4.1.2452.6.2747787005.1263068138.27367...</td>\n",
       "      <td>1.3.6.1.4.1.2452.6.1938074019.1188018291.41990...</td>\n",
       "      <td>1.3.6.1.4.1.2452.6.3150457222.1106452005.39453...</td>\n",
       "    </tr>\n",
       "    <tr>\n",
       "      <th>SeriesNumber</th>\n",
       "      <td>1</td>\n",
       "      <td>1</td>\n",
       "      <td>1</td>\n",
       "      <td>5</td>\n",
       "    </tr>\n",
       "    <tr>\n",
       "      <th>SoftwareVersions</th>\n",
       "      <td>OTP V4.5.3.30</td>\n",
       "      <td>OTP V4.5.2.152</td>\n",
       "      <td>OTP V4.5.3.30</td>\n",
       "      <td>['24', 'LX', 'MR Software release:HD16.0_V03_1...</td>\n",
       "    </tr>\n",
       "    <tr>\n",
       "      <th>StationName</th>\n",
       "      <td>RT-BRACHYT</td>\n",
       "      <td>PC009761</td>\n",
       "      <td>PC009761</td>\n",
       "      <td>NHFEMR04</td>\n",
       "    </tr>\n",
       "  </tbody>\n",
       "</table>\n",
       "</div>"
      ],
      "text/plain": [
       "                                                                   Plan1  \\\n",
       "tag                                                                        \n",
       "Manufacturer                                                   Nucletron   \n",
       "ManufacturerModelName                                           Oncentra   \n",
       "Modality                                                          RTPLAN   \n",
       "SOPClassUID                                1.2.840.10008.5.1.4.1.1.481.5   \n",
       "SOPInstanceUID         1.3.6.1.4.1.2452.6.2743304011.1151359869.12204...   \n",
       "SeriesInstanceUID      1.3.6.1.4.1.2452.6.3396086542.1231529005.38488...   \n",
       "SeriesNumber                                                           1   \n",
       "SoftwareVersions                                           OTP V4.5.3.30   \n",
       "StationName                                                   RT-BRACHYT   \n",
       "\n",
       "                                                                   Plan2  \\\n",
       "tag                                                                        \n",
       "Manufacturer                                                   Nucletron   \n",
       "ManufacturerModelName                                           Oncentra   \n",
       "Modality                                                          RTPLAN   \n",
       "SOPClassUID                                1.2.840.10008.5.1.4.1.1.481.5   \n",
       "SOPInstanceUID         1.3.6.1.4.1.2452.6.2774509762.1153355867.34264...   \n",
       "SeriesInstanceUID      1.3.6.1.4.1.2452.6.2747787005.1263068138.27367...   \n",
       "SeriesNumber                                                           1   \n",
       "SoftwareVersions                                          OTP V4.5.2.152   \n",
       "StationName                                                     PC009761   \n",
       "\n",
       "                                                                   Plan3  \\\n",
       "tag                                                                        \n",
       "Manufacturer                                                   Nucletron   \n",
       "ManufacturerModelName                                           Oncentra   \n",
       "Modality                                                          RTPLAN   \n",
       "SOPClassUID                                1.2.840.10008.5.1.4.1.1.481.5   \n",
       "SOPInstanceUID         1.3.6.1.4.1.2452.6.2633641423.1222660011.25835...   \n",
       "SeriesInstanceUID      1.3.6.1.4.1.2452.6.1938074019.1188018291.41990...   \n",
       "SeriesNumber                                                           1   \n",
       "SoftwareVersions                                           OTP V4.5.3.30   \n",
       "StationName                                                     PC009761   \n",
       "\n",
       "                                                                  Imagen  \n",
       "tag                                                                       \n",
       "Manufacturer                                          GE MEDICAL SYSTEMS  \n",
       "ManufacturerModelName                                         Signa HDxt  \n",
       "Modality                                                              MR  \n",
       "SOPClassUID                                    1.2.840.10008.5.1.4.1.1.4  \n",
       "SOPInstanceUID         1.3.6.1.4.1.2452.6.1019122476.1241727211.17704...  \n",
       "SeriesInstanceUID      1.3.6.1.4.1.2452.6.3150457222.1106452005.39453...  \n",
       "SeriesNumber                                                           5  \n",
       "SoftwareVersions       ['24', 'LX', 'MR Software release:HD16.0_V03_1...  \n",
       "StationName                                                     NHFEMR04  "
      ]
     },
     "execution_count": 2,
     "metadata": {},
     "output_type": "execute_result"
    }
   ],
   "source": [
    "campos=pd.read_csv('data/camposnocomunes.csv')\n",
    "campos.set_index('tag')"
   ]
  },
  {
   "cell_type": "markdown",
   "id": "raised-peter",
   "metadata": {},
   "source": [
    "Hay una serie de ellos que no nos van a suponer ningún problema. No obstante detengámonos en cada uno de ellos"
   ]
  },
  {
   "cell_type": "markdown",
   "id": "imperial-private",
   "metadata": {},
   "source": [
    "#### Manufacter y ManufacturerModelName"
   ]
  },
  {
   "cell_type": "markdown",
   "id": "comic-apollo",
   "metadata": {},
   "source": [
    "Podemos poner en ambos el nombre que queramos por ejemplo **IRIMED** y **UtrechtTool**"
   ]
  },
  {
   "cell_type": "markdown",
   "id": "further-victim",
   "metadata": {},
   "source": [
    "#### Modality"
   ]
  },
  {
   "cell_type": "markdown",
   "id": "selective-understanding",
   "metadata": {},
   "source": [
    "Esta debe ser obligatoriamente **RTPlan**"
   ]
  },
  {
   "cell_type": "markdown",
   "id": "plastic-slovenia",
   "metadata": {},
   "source": [
    "#### SeriesNumber"
   ]
  },
  {
   "cell_type": "markdown",
   "id": "julian-recovery",
   "metadata": {},
   "source": [
    "En esta pondremos **1**"
   ]
  },
  {
   "cell_type": "markdown",
   "id": "annoying-celebrity",
   "metadata": {},
   "source": [
    "#### SoftwareVersion y StationName"
   ]
  },
  {
   "cell_type": "markdown",
   "id": "occupational-cisco",
   "metadata": {},
   "source": [
    "De momento pondremos **1.0** para la primera y **3DSlicer** para la segunda."
   ]
  },
  {
   "cell_type": "markdown",
   "id": "useful-collar",
   "metadata": {},
   "source": [
    "Ahora entramos en los campos no tan evidentes"
   ]
  },
  {
   "cell_type": "markdown",
   "id": "emotional-local",
   "metadata": {},
   "source": [
    "#### SOPClassUID"
   ]
  },
  {
   "cell_type": "markdown",
   "id": "driven-colorado",
   "metadata": {},
   "source": [
    "Por lo que vemos en los diferentes planes, este valor es común. Así que lo mantendremos en nuestro RTPlan fabricado: **1.2.840.10008.5.1.4.1.1.481.5**"
   ]
  },
  {
   "cell_type": "code",
   "execution_count": null,
   "id": "contrary-locator",
   "metadata": {},
   "outputs": [],
   "source": []
  }
 ],
 "metadata": {
  "kernelspec": {
   "display_name": "Python 3",
   "language": "python",
   "name": "python3"
  },
  "language_info": {
   "codemirror_mode": {
    "name": "ipython",
    "version": 3
   },
   "file_extension": ".py",
   "mimetype": "text/x-python",
   "name": "python",
   "nbconvert_exporter": "python",
   "pygments_lexer": "ipython3",
   "version": "3.6.13"
  }
 },
 "nbformat": 4,
 "nbformat_minor": 5
}