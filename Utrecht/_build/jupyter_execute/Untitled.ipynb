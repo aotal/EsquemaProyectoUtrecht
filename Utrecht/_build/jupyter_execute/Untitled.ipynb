{
 "cells": [
  {
   "cell_type": "code",
   "execution_count": 1,
   "id": "lonely-favorite",
   "metadata": {},
   "outputs": [],
   "source": [
    "import pydicom as dc"
   ]
  },
  {
   "cell_type": "code",
   "execution_count": 2,
   "id": "pursuant-ontario",
   "metadata": {},
   "outputs": [],
   "source": [
    "import pandas as pd"
   ]
  },
  {
   "cell_type": "code",
   "execution_count": 3,
   "id": "patent-medicine",
   "metadata": {},
   "outputs": [],
   "source": [
    "plansimple=dc.read_file('Ficheros/PlanSimple.dcm')\n",
    "plancomplejo=dc.read_file('Ficheros/PlanComplejo.dcm')\n",
    "plancomplejo2=dc.read_file('Ficheros/PlanComplejo2.dcm')"
   ]
  },
  {
   "cell_type": "code",
   "execution_count": 4,
   "id": "vertical-reception",
   "metadata": {},
   "outputs": [],
   "source": [
    "imagen=dc.read_file('Ficheros/MR1.3.6.1.4.1.2452.6.1019122476.1241727211.1770477973.3491608041.dcm')\n",
    "estructura=dc.read_file('Ficheros/EstructuraSimple.dcm')"
   ]
  },
  {
   "cell_type": "code",
   "execution_count": 5,
   "id": "separated-healthcare",
   "metadata": {},
   "outputs": [
    {
     "data": {
      "text/plain": [
       "61"
      ]
     },
     "execution_count": 5,
     "metadata": {},
     "output_type": "execute_result"
    }
   ],
   "source": [
    "len(plansimple.data_element('SOPInstanceUID').value)"
   ]
  },
  {
   "cell_type": "code",
   "execution_count": 6,
   "id": "progressive-principle",
   "metadata": {},
   "outputs": [
    {
     "data": {
      "text/plain": [
       "62"
      ]
     },
     "execution_count": 6,
     "metadata": {},
     "output_type": "execute_result"
    }
   ],
   "source": [
    "len(plancomplejo.data_element('SOPInstanceUID').value)"
   ]
  },
  {
   "cell_type": "code",
   "execution_count": 7,
   "id": "regulated-leadership",
   "metadata": {},
   "outputs": [
    {
     "data": {
      "text/plain": [
       "62"
      ]
     },
     "execution_count": 7,
     "metadata": {},
     "output_type": "execute_result"
    }
   ],
   "source": [
    "len(plancomplejo2.data_element('SOPInstanceUID').value)"
   ]
  },
  {
   "cell_type": "code",
   "execution_count": 8,
   "id": "unavailable-estate",
   "metadata": {},
   "outputs": [
    {
     "data": {
      "text/plain": [
       "61"
      ]
     },
     "execution_count": 8,
     "metadata": {},
     "output_type": "execute_result"
    }
   ],
   "source": [
    "len(plansimple.data_element('SeriesInstanceUID').value)"
   ]
  },
  {
   "cell_type": "code",
   "execution_count": 9,
   "id": "stable-familiar",
   "metadata": {},
   "outputs": [
    {
     "data": {
      "text/plain": [
       "62"
      ]
     },
     "execution_count": 9,
     "metadata": {},
     "output_type": "execute_result"
    }
   ],
   "source": [
    "len(plancomplejo.data_element('SeriesInstanceUID').value)"
   ]
  },
  {
   "cell_type": "code",
   "execution_count": 10,
   "id": "plastic-savannah",
   "metadata": {},
   "outputs": [
    {
     "data": {
      "text/plain": [
       "62"
      ]
     },
     "execution_count": 10,
     "metadata": {},
     "output_type": "execute_result"
    }
   ],
   "source": [
    "len(plancomplejo2.data_element('SeriesInstanceUID').value)"
   ]
  },
  {
   "cell_type": "code",
   "execution_count": null,
   "id": "korean-provision",
   "metadata": {},
   "outputs": [],
   "source": []
  },
  {
   "cell_type": "code",
   "execution_count": null,
   "id": "formed-photograph",
   "metadata": {},
   "outputs": [],
   "source": []
  },
  {
   "cell_type": "code",
   "execution_count": null,
   "id": "rapid-johns",
   "metadata": {},
   "outputs": [],
   "source": []
  },
  {
   "cell_type": "code",
   "execution_count": 11,
   "id": "otherwise-reduction",
   "metadata": {},
   "outputs": [
    {
     "data": {
      "text/plain": [
       "(0008, 1150) Referenced SOP Class UID            UI: RT Structure Set Storage\n",
       "(0008, 1155) Referenced SOP Instance UID         UI: 1.3.6.1.4.1.2452.6.2664562426.1288265039.467152794.2028798075"
      ]
     },
     "execution_count": 11,
     "metadata": {},
     "output_type": "execute_result"
    }
   ],
   "source": [
    "plansimple.ReferencedStructureSetSequence[0]"
   ]
  },
  {
   "cell_type": "code",
   "execution_count": 12,
   "id": "dirty-constraint",
   "metadata": {},
   "outputs": [],
   "source": [
    "planlist=plansimple.dir()\n",
    "planlist2=plancomplejo.dir()\n",
    "imagenlist=imagen.dir()"
   ]
  },
  {
   "cell_type": "code",
   "execution_count": 13,
   "id": "existing-steam",
   "metadata": {},
   "outputs": [],
   "source": [
    "common=[]\n",
    "noncommon=[]\n",
    "for x in planlist:\n",
    "    if x in imagenlist:\n",
    "        common.append(x)\n",
    "    else:\n",
    "        noncommon.append(x)"
   ]
  },
  {
   "cell_type": "code",
   "execution_count": 14,
   "id": "cleared-translation",
   "metadata": {},
   "outputs": [
    {
     "data": {
      "text/plain": [
       "['ApplicationSetupSequence',\n",
       " 'ApprovalStatus',\n",
       " 'BrachyTreatmentTechnique',\n",
       " 'BrachyTreatmentType',\n",
       " 'FractionGroupSequence',\n",
       " 'InstanceCreationDate',\n",
       " 'InstanceCreationTime',\n",
       " 'InstitutionalDepartmentName',\n",
       " 'OperatorsName',\n",
       " 'RTPlanDate',\n",
       " 'RTPlanGeometry',\n",
       " 'RTPlanLabel',\n",
       " 'RTPlanName',\n",
       " 'RTPlanTime',\n",
       " 'ReferencedStructureSetSequence',\n",
       " 'SourceSequence',\n",
       " 'TimezoneOffsetFromUTC',\n",
       " 'TreatmentMachineSequence']"
      ]
     },
     "execution_count": 14,
     "metadata": {},
     "output_type": "execute_result"
    }
   ],
   "source": [
    "noncommon"
   ]
  },
  {
   "cell_type": "code",
   "execution_count": 15,
   "id": "afraid-douglas",
   "metadata": {},
   "outputs": [],
   "source": [
    "def make_markdown_table(array):\n",
    "\n",
    "    \"\"\" Input: Python list with rows of table as lists\n",
    "               First element as header. \n",
    "        Output: String to put into a .md file \n",
    "        \n",
    "    Ex Input: \n",
    "        [[\"Name\", \"Age\", \"Height\"],\n",
    "         [\"Jake\", 20, 5'10],\n",
    "         [\"Mary\", 21, 5'7]] \n",
    "    \"\"\"\n",
    "    markdown=\"<ul>\"\n",
    "    for e in array:\n",
    "        markdown += '<li>' + str(e)+'</li>'\n",
    "        #markdown +=\" <br> \"\n",
    "    markdown+='</ul>'\n",
    "    return markdown"
   ]
  },
  {
   "cell_type": "code",
   "execution_count": 16,
   "id": "organizational-executive",
   "metadata": {},
   "outputs": [
    {
     "data": {
      "text/plain": [
       "'<ul><li>ApplicationSetupSequence</li><li>ApprovalStatus</li><li>BrachyTreatmentTechnique</li><li>BrachyTreatmentType</li><li>FractionGroupSequence</li><li>InstanceCreationDate</li><li>InstanceCreationTime</li><li>InstitutionalDepartmentName</li><li>OperatorsName</li><li>RTPlanDate</li><li>RTPlanGeometry</li><li>RTPlanLabel</li><li>RTPlanName</li><li>RTPlanTime</li><li>ReferencedStructureSetSequence</li><li>SourceSequence</li><li>TimezoneOffsetFromUTC</li><li>TreatmentMachineSequence</li></ul>'"
      ]
     },
     "execution_count": 16,
     "metadata": {},
     "output_type": "execute_result"
    }
   ],
   "source": [
    "make_markdown_table(noncommon)"
   ]
  },
  {
   "cell_type": "code",
   "execution_count": 17,
   "id": "allied-bahamas",
   "metadata": {},
   "outputs": [],
   "source": [
    "samevalues=[]\n",
    "differentvalue=[]\n",
    "for x in common:\n",
    "    if (plansimple.data_element(x).value==imagen.data_element(x).value):\n",
    "        samevalues.append(x)\n",
    "    else:\n",
    "        differentvalue.append(x)"
   ]
  },
  {
   "cell_type": "code",
   "execution_count": 18,
   "id": "eleven-project",
   "metadata": {},
   "outputs": [
    {
     "data": {
      "text/plain": [
       "['AccessionNumber',\n",
       " 'FrameOfReferenceUID',\n",
       " 'PatientBirthDate',\n",
       " 'PatientID',\n",
       " 'PatientName',\n",
       " 'PatientSex',\n",
       " 'PositionReferenceIndicator',\n",
       " 'ReferringPhysicianName',\n",
       " 'SpecificCharacterSet',\n",
       " 'StudyDate',\n",
       " 'StudyDescription',\n",
       " 'StudyID',\n",
       " 'StudyInstanceUID',\n",
       " 'StudyTime']"
      ]
     },
     "execution_count": 18,
     "metadata": {},
     "output_type": "execute_result"
    }
   ],
   "source": [
    "samevalues"
   ]
  },
  {
   "cell_type": "code",
   "execution_count": 19,
   "id": "bridal-trust",
   "metadata": {},
   "outputs": [
    {
     "data": {
      "text/plain": [
       "['Manufacturer',\n",
       " 'ManufacturerModelName',\n",
       " 'Modality',\n",
       " 'SOPClassUID',\n",
       " 'SOPInstanceUID',\n",
       " 'SeriesInstanceUID',\n",
       " 'SeriesNumber',\n",
       " 'SoftwareVersions',\n",
       " 'StationName']"
      ]
     },
     "execution_count": 19,
     "metadata": {},
     "output_type": "execute_result"
    }
   ],
   "source": [
    "differentvalue"
   ]
  },
  {
   "cell_type": "code",
   "execution_count": 20,
   "id": "likely-outdoors",
   "metadata": {},
   "outputs": [],
   "source": [
    "A=pd.DataFrame([[x,plansimple.data_element(x).value,plancomplejo.data_element(x).value,plancomplejo2.data_element(x).value,imagen.data_element(x).value] for x in differentvalue],columns=['tag','Plan1','Plan2','Plan3','Imagen'])"
   ]
  },
  {
   "cell_type": "code",
   "execution_count": 21,
   "id": "regular-mountain",
   "metadata": {},
   "outputs": [
    {
     "data": {
      "text/plain": [
       "['tag', 'Plan1', 'Plan2', 'Plan3', 'Imagen']"
      ]
     },
     "execution_count": 21,
     "metadata": {},
     "output_type": "execute_result"
    }
   ],
   "source": [
    "A.columns.tolist()"
   ]
  },
  {
   "cell_type": "code",
   "execution_count": 22,
   "id": "applicable-wrist",
   "metadata": {},
   "outputs": [
    {
     "data": {
      "text/html": [
       "<div>\n",
       "<style scoped>\n",
       "    .dataframe tbody tr th:only-of-type {\n",
       "        vertical-align: middle;\n",
       "    }\n",
       "\n",
       "    .dataframe tbody tr th {\n",
       "        vertical-align: top;\n",
       "    }\n",
       "\n",
       "    .dataframe thead th {\n",
       "        text-align: right;\n",
       "    }\n",
       "</style>\n",
       "<table border=\"1\" class=\"dataframe\">\n",
       "  <thead>\n",
       "    <tr style=\"text-align: right;\">\n",
       "      <th></th>\n",
       "      <th>Plan1</th>\n",
       "      <th>Plan2</th>\n",
       "      <th>Plan3</th>\n",
       "      <th>Imagen</th>\n",
       "    </tr>\n",
       "    <tr>\n",
       "      <th>tag</th>\n",
       "      <th></th>\n",
       "      <th></th>\n",
       "      <th></th>\n",
       "      <th></th>\n",
       "    </tr>\n",
       "  </thead>\n",
       "  <tbody>\n",
       "    <tr>\n",
       "      <th>Manufacturer</th>\n",
       "      <td>Nucletron</td>\n",
       "      <td>Nucletron</td>\n",
       "      <td>Nucletron</td>\n",
       "      <td>GE MEDICAL SYSTEMS</td>\n",
       "    </tr>\n",
       "    <tr>\n",
       "      <th>ManufacturerModelName</th>\n",
       "      <td>Oncentra</td>\n",
       "      <td>Oncentra</td>\n",
       "      <td>Oncentra</td>\n",
       "      <td>Signa HDxt</td>\n",
       "    </tr>\n",
       "    <tr>\n",
       "      <th>Modality</th>\n",
       "      <td>RTPLAN</td>\n",
       "      <td>RTPLAN</td>\n",
       "      <td>RTPLAN</td>\n",
       "      <td>MR</td>\n",
       "    </tr>\n",
       "    <tr>\n",
       "      <th>SOPClassUID</th>\n",
       "      <td>1.2.840.10008.5.1.4.1.1.481.5</td>\n",
       "      <td>1.2.840.10008.5.1.4.1.1.481.5</td>\n",
       "      <td>1.2.840.10008.5.1.4.1.1.481.5</td>\n",
       "      <td>1.2.840.10008.5.1.4.1.1.4</td>\n",
       "    </tr>\n",
       "    <tr>\n",
       "      <th>SOPInstanceUID</th>\n",
       "      <td>1.3.6.1.4.1.2452.6.2743304011.1151359869.12204...</td>\n",
       "      <td>1.3.6.1.4.1.2452.6.2774509762.1153355867.34264...</td>\n",
       "      <td>1.3.6.1.4.1.2452.6.2633641423.1222660011.25835...</td>\n",
       "      <td>1.3.6.1.4.1.2452.6.1019122476.1241727211.17704...</td>\n",
       "    </tr>\n",
       "    <tr>\n",
       "      <th>SeriesInstanceUID</th>\n",
       "      <td>1.3.6.1.4.1.2452.6.3396086542.1231529005.38488...</td>\n",
       "      <td>1.3.6.1.4.1.2452.6.2747787005.1263068138.27367...</td>\n",
       "      <td>1.3.6.1.4.1.2452.6.1938074019.1188018291.41990...</td>\n",
       "      <td>1.3.6.1.4.1.2452.6.3150457222.1106452005.39453...</td>\n",
       "    </tr>\n",
       "    <tr>\n",
       "      <th>SeriesNumber</th>\n",
       "      <td>1</td>\n",
       "      <td>1</td>\n",
       "      <td>1</td>\n",
       "      <td>5</td>\n",
       "    </tr>\n",
       "    <tr>\n",
       "      <th>SoftwareVersions</th>\n",
       "      <td>OTP V4.5.3.30</td>\n",
       "      <td>OTP V4.5.2.152</td>\n",
       "      <td>OTP V4.5.3.30</td>\n",
       "      <td>[24, LX, MR Software release:HD16.0_V03_1638.a]</td>\n",
       "    </tr>\n",
       "    <tr>\n",
       "      <th>StationName</th>\n",
       "      <td>RT-BRACHYT</td>\n",
       "      <td>PC009761</td>\n",
       "      <td>PC009761</td>\n",
       "      <td>NHFEMR04</td>\n",
       "    </tr>\n",
       "  </tbody>\n",
       "</table>\n",
       "</div>"
      ],
      "text/plain": [
       "                                                                   Plan1  \\\n",
       "tag                                                                        \n",
       "Manufacturer                                                   Nucletron   \n",
       "ManufacturerModelName                                           Oncentra   \n",
       "Modality                                                          RTPLAN   \n",
       "SOPClassUID                                1.2.840.10008.5.1.4.1.1.481.5   \n",
       "SOPInstanceUID         1.3.6.1.4.1.2452.6.2743304011.1151359869.12204...   \n",
       "SeriesInstanceUID      1.3.6.1.4.1.2452.6.3396086542.1231529005.38488...   \n",
       "SeriesNumber                                                           1   \n",
       "SoftwareVersions                                           OTP V4.5.3.30   \n",
       "StationName                                                   RT-BRACHYT   \n",
       "\n",
       "                                                                   Plan2  \\\n",
       "tag                                                                        \n",
       "Manufacturer                                                   Nucletron   \n",
       "ManufacturerModelName                                           Oncentra   \n",
       "Modality                                                          RTPLAN   \n",
       "SOPClassUID                                1.2.840.10008.5.1.4.1.1.481.5   \n",
       "SOPInstanceUID         1.3.6.1.4.1.2452.6.2774509762.1153355867.34264...   \n",
       "SeriesInstanceUID      1.3.6.1.4.1.2452.6.2747787005.1263068138.27367...   \n",
       "SeriesNumber                                                           1   \n",
       "SoftwareVersions                                          OTP V4.5.2.152   \n",
       "StationName                                                     PC009761   \n",
       "\n",
       "                                                                   Plan3  \\\n",
       "tag                                                                        \n",
       "Manufacturer                                                   Nucletron   \n",
       "ManufacturerModelName                                           Oncentra   \n",
       "Modality                                                          RTPLAN   \n",
       "SOPClassUID                                1.2.840.10008.5.1.4.1.1.481.5   \n",
       "SOPInstanceUID         1.3.6.1.4.1.2452.6.2633641423.1222660011.25835...   \n",
       "SeriesInstanceUID      1.3.6.1.4.1.2452.6.1938074019.1188018291.41990...   \n",
       "SeriesNumber                                                           1   \n",
       "SoftwareVersions                                           OTP V4.5.3.30   \n",
       "StationName                                                     PC009761   \n",
       "\n",
       "                                                                  Imagen  \n",
       "tag                                                                       \n",
       "Manufacturer                                          GE MEDICAL SYSTEMS  \n",
       "ManufacturerModelName                                         Signa HDxt  \n",
       "Modality                                                              MR  \n",
       "SOPClassUID                                    1.2.840.10008.5.1.4.1.1.4  \n",
       "SOPInstanceUID         1.3.6.1.4.1.2452.6.1019122476.1241727211.17704...  \n",
       "SeriesInstanceUID      1.3.6.1.4.1.2452.6.3150457222.1106452005.39453...  \n",
       "SeriesNumber                                                           5  \n",
       "SoftwareVersions         [24, LX, MR Software release:HD16.0_V03_1638.a]  \n",
       "StationName                                                     NHFEMR04  "
      ]
     },
     "execution_count": 22,
     "metadata": {},
     "output_type": "execute_result"
    }
   ],
   "source": [
    "A.set_index('tag')"
   ]
  },
  {
   "cell_type": "code",
   "execution_count": 23,
   "id": "primary-intervention",
   "metadata": {},
   "outputs": [],
   "source": [
    "A.to_csv('camposnocomunes.csv',columns=A.columns.tolist(),index=False)"
   ]
  },
  {
   "cell_type": "code",
   "execution_count": 24,
   "id": "hollow-premium",
   "metadata": {},
   "outputs": [
    {
     "ename": "NameError",
     "evalue": "name 'plan' is not defined",
     "output_type": "error",
     "traceback": [
      "\u001b[1;31m---------------------------------------------------------------------------\u001b[0m",
      "\u001b[1;31mNameError\u001b[0m                                 Traceback (most recent call last)",
      "\u001b[1;32m<ipython-input-24-151300bad8af>\u001b[0m in \u001b[0;36m<module>\u001b[1;34m\u001b[0m\n\u001b[1;32m----> 1\u001b[1;33m \u001b[0mplan\u001b[0m\u001b[1;33m.\u001b[0m\u001b[0mdata_element\u001b[0m\u001b[1;33m(\u001b[0m\u001b[1;34m'AccessionNumber'\u001b[0m\u001b[1;33m)\u001b[0m\u001b[1;33m.\u001b[0m\u001b[0mvalue\u001b[0m\u001b[1;33m\u001b[0m\u001b[1;33m\u001b[0m\u001b[0m\n\u001b[0m",
      "\u001b[1;31mNameError\u001b[0m: name 'plan' is not defined"
     ]
    }
   ],
   "source": [
    "plan.data_element('AccessionNumber').value"
   ]
  },
  {
   "cell_type": "code",
   "execution_count": null,
   "id": "broadband-knowing",
   "metadata": {},
   "outputs": [],
   "source": [
    "plan.AccessionNumber"
   ]
  },
  {
   "cell_type": "code",
   "execution_count": null,
   "id": "fresh-rebound",
   "metadata": {},
   "outputs": [],
   "source": []
  },
  {
   "cell_type": "code",
   "execution_count": null,
   "id": "breeding-praise",
   "metadata": {},
   "outputs": [],
   "source": [
    "imagen.dir()"
   ]
  },
  {
   "cell_type": "code",
   "execution_count": 50,
   "id": "theoretical-accuracy",
   "metadata": {},
   "outputs": [
    {
     "data": {
      "text/plain": [
       "'20210323'"
      ]
     },
     "execution_count": 50,
     "metadata": {},
     "output_type": "execute_result"
    }
   ],
   "source": [
    "plansimple.data_element('InstanceCreationDate').value"
   ]
  },
  {
   "cell_type": "code",
   "execution_count": 51,
   "id": "alive-calculation",
   "metadata": {},
   "outputs": [
    {
     "data": {
      "text/plain": [
       "'1.3.6.1.4.1.2452.6.2743304011.1151359869.1220445607.392610815'"
      ]
     },
     "execution_count": 51,
     "metadata": {},
     "output_type": "execute_result"
    }
   ],
   "source": [
    "plansimple.data_element('SOPInstanceUID').value"
   ]
  },
  {
   "cell_type": "code",
   "execution_count": 25,
   "id": "sophisticated-disclaimer",
   "metadata": {},
   "outputs": [
    {
     "name": "stdout",
     "output_type": "stream",
     "text": [
      "(300a, 0071) Fraction Group Number               IS: \"1\"\n",
      "(300a, 0078) Number of Fractions Planned         IS: \"1\"\n",
      "(300a, 0080) Number of Beams                     IS: \"0\"\n",
      "(300a, 00a0) Number of Brachy Application Setups IS: \"1\"\n",
      "(300c, 000a)  Referenced Brachy Application Setup Sequence  1 item(s) ---- \n",
      "   (300c, 000c) Referenced Brachy Application Setup IS: \"0\"\n",
      "   ---------\n"
     ]
    }
   ],
   "source": [
    "print(plansimple.data_element('FractionGroupSequence').value[0])"
   ]
  },
  {
   "cell_type": "code",
   "execution_count": 20,
   "id": "transparent-forest",
   "metadata": {},
   "outputs": [],
   "source": [
    "AS=plansimple.ReferencedStructureSetSequence[0]"
   ]
  },
  {
   "cell_type": "code",
   "execution_count": 22,
   "id": "loaded-chaos",
   "metadata": {},
   "outputs": [
    {
     "data": {
      "text/plain": [
       "'1.3.6.1.4.1.2452.6.2664562426.1288265039.467152794.2028798075'"
      ]
     },
     "execution_count": 22,
     "metadata": {},
     "output_type": "execute_result"
    }
   ],
   "source": [
    "AS.ReferencedSOPInstanceUID"
   ]
  },
  {
   "cell_type": "code",
   "execution_count": null,
   "id": "binding-gibraltar",
   "metadata": {},
   "outputs": [],
   "source": []
  }
 ],
 "metadata": {
  "kernelspec": {
   "display_name": "JBook",
   "language": "python",
   "name": "book"
  },
  "language_info": {
   "codemirror_mode": {
    "name": "ipython",
    "version": 3
   },
   "file_extension": ".py",
   "mimetype": "text/x-python",
   "name": "python",
   "nbconvert_exporter": "python",
   "pygments_lexer": "ipython3",
   "version": "3.7.10"
  }
 },
 "nbformat": 4,
 "nbformat_minor": 5
}