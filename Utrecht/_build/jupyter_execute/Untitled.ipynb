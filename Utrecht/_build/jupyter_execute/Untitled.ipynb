{
 "cells": [
  {
   "cell_type": "code",
   "execution_count": 1,
   "id": "monetary-carbon",
   "metadata": {},
   "outputs": [
    {
     "ename": "ModuleNotFoundError",
     "evalue": "No module named 'pydicom'",
     "output_type": "error",
     "traceback": [
      "\u001b[1;31m---------------------------------------------------------------------------\u001b[0m",
      "\u001b[1;31mModuleNotFoundError\u001b[0m                       Traceback (most recent call last)",
      "\u001b[1;32m<ipython-input-1-b5a5dd64c548>\u001b[0m in \u001b[0;36m<module>\u001b[1;34m\u001b[0m\n\u001b[1;32m----> 1\u001b[1;33m \u001b[1;32mimport\u001b[0m \u001b[0mpydicom\u001b[0m \u001b[1;32mas\u001b[0m \u001b[0mdc\u001b[0m\u001b[1;33m\u001b[0m\u001b[1;33m\u001b[0m\u001b[0m\n\u001b[0m",
      "\u001b[1;31mModuleNotFoundError\u001b[0m: No module named 'pydicom'"
     ]
    }
   ],
   "source": [
    "import pydicom as dc"
   ]
  },
  {
   "cell_type": "code",
   "execution_count": 36,
   "id": "cathedral-classic",
   "metadata": {},
   "outputs": [],
   "source": [
    "import pandas as pd"
   ]
  },
  {
   "cell_type": "code",
   "execution_count": 37,
   "id": "severe-packaging",
   "metadata": {},
   "outputs": [],
   "source": [
    "plansimple=dc.read_file('Ficheros/PlanSimple.dcm')\n",
    "plancomplejo=dc.read_file('Ficheros/PlanComplejo.dcm')\n",
    "plancomplejo2=dc.read_file('Ficheros/PlanComplejo2.dcm')"
   ]
  },
  {
   "cell_type": "code",
   "execution_count": 80,
   "id": "immediate-carnival",
   "metadata": {},
   "outputs": [],
   "source": [
    "imagen=dc.read_file('Ficheros/MR1.3.6.1.4.1.2452.6.1019122476.1241727211.1770477973.3491608041.dcm')\n",
    "estructura=dc.read_file('Ficheros/EstructuraSimple.dcm')"
   ]
  },
  {
   "cell_type": "code",
   "execution_count": 88,
   "id": "secondary-programmer",
   "metadata": {},
   "outputs": [
    {
     "ename": "AttributeError",
     "evalue": "'FileDataset' object has no attribute 'ReferencedSOPInstanceUID'",
     "output_type": "error",
     "traceback": [
      "\u001b[1;31m---------------------------------------------------------------------------\u001b[0m",
      "\u001b[1;31mAttributeError\u001b[0m                            Traceback (most recent call last)",
      "\u001b[1;32m<ipython-input-88-ef4052ad4d9b>\u001b[0m in \u001b[0;36m<module>\u001b[1;34m\u001b[0m\n\u001b[1;32m----> 1\u001b[1;33m \u001b[0mestructura\u001b[0m\u001b[1;33m.\u001b[0m\u001b[0mReferencedSOPInstanceUID\u001b[0m\u001b[1;33m\u001b[0m\u001b[1;33m\u001b[0m\u001b[0m\n\u001b[0m",
      "\u001b[1;32m~\\Miniconda3\\lib\\site-packages\\pydicom\\dataset.py\u001b[0m in \u001b[0;36m__getattr__\u001b[1;34m(self, name)\u001b[0m\n\u001b[0;32m    833\u001b[0m             \u001b[1;32mreturn\u001b[0m \u001b[1;33m{\u001b[0m\u001b[1;33m}\u001b[0m\u001b[1;33m\u001b[0m\u001b[1;33m\u001b[0m\u001b[0m\n\u001b[0;32m    834\u001b[0m         \u001b[1;31m# Try the base class attribute getter (fix for issue 332)\u001b[0m\u001b[1;33m\u001b[0m\u001b[1;33m\u001b[0m\u001b[1;33m\u001b[0m\u001b[0m\n\u001b[1;32m--> 835\u001b[1;33m         \u001b[1;32mreturn\u001b[0m \u001b[0mobject\u001b[0m\u001b[1;33m.\u001b[0m\u001b[0m__getattribute__\u001b[0m\u001b[1;33m(\u001b[0m\u001b[0mself\u001b[0m\u001b[1;33m,\u001b[0m \u001b[0mname\u001b[0m\u001b[1;33m)\u001b[0m\u001b[1;33m\u001b[0m\u001b[1;33m\u001b[0m\u001b[0m\n\u001b[0m\u001b[0;32m    836\u001b[0m \u001b[1;33m\u001b[0m\u001b[0m\n\u001b[0;32m    837\u001b[0m     \u001b[1;33m@\u001b[0m\u001b[0mproperty\u001b[0m\u001b[1;33m\u001b[0m\u001b[1;33m\u001b[0m\u001b[0m\n",
      "\u001b[1;31mAttributeError\u001b[0m: 'FileDataset' object has no attribute 'ReferencedSOPInstanceUID'"
     ]
    }
   ],
   "source": []
  },
  {
   "cell_type": "code",
   "execution_count": 87,
   "id": "mysterious-scroll",
   "metadata": {},
   "outputs": [
    {
     "data": {
      "text/plain": [
       "(0008, 1150) Referenced SOP Class UID            UI: RT Structure Set Storage\n",
       "(0008, 1155) Referenced SOP Instance UID         UI: 1.3.6.1.4.1.2452.6.2664562426.1288265039.467152794.2028798075"
      ]
     },
     "execution_count": 87,
     "metadata": {},
     "output_type": "execute_result"
    }
   ],
   "source": [
    "plansimple.ReferencedStructureSetSequence[0]"
   ]
  },
  {
   "cell_type": "code",
   "execution_count": 39,
   "id": "undefined-blake",
   "metadata": {},
   "outputs": [],
   "source": [
    "planlist=plansimple.dir()\n",
    "planlist2=plancomplejo.dir()\n",
    "imagenlist=imagen.dir()"
   ]
  },
  {
   "cell_type": "code",
   "execution_count": 61,
   "id": "short-compact",
   "metadata": {},
   "outputs": [
    {
     "data": {
      "text/plain": [
       "23"
      ]
     },
     "execution_count": 61,
     "metadata": {},
     "output_type": "execute_result"
    }
   ],
   "source": [
    "len(common)"
   ]
  },
  {
   "cell_type": "code",
   "execution_count": 62,
   "id": "invalid-mills",
   "metadata": {},
   "outputs": [
    {
     "data": {
      "text/plain": [
       "14"
      ]
     },
     "execution_count": 62,
     "metadata": {},
     "output_type": "execute_result"
    }
   ],
   "source": [
    "len(samevalues)"
   ]
  },
  {
   "cell_type": "code",
   "execution_count": 40,
   "id": "hawaiian-capability",
   "metadata": {},
   "outputs": [],
   "source": [
    "common=[]\n",
    "noncommon=[]\n",
    "for x in planlist:\n",
    "    if x in imagenlist:\n",
    "        common.append(x)\n",
    "    else:\n",
    "        noncommon.append(x)"
   ]
  },
  {
   "cell_type": "code",
   "execution_count": 59,
   "id": "dental-freeware",
   "metadata": {},
   "outputs": [],
   "source": [
    "def make_markdown_table(array):\n",
    "\n",
    "    \"\"\" Input: Python list with rows of table as lists\n",
    "               First element as header. \n",
    "        Output: String to put into a .md file \n",
    "        \n",
    "    Ex Input: \n",
    "        [[\"Name\", \"Age\", \"Height\"],\n",
    "         [\"Jake\", 20, 5'10],\n",
    "         [\"Mary\", 21, 5'7]] \n",
    "    \"\"\"\n",
    "    markdown=\"<ul>\"\n",
    "    for e in array:\n",
    "        markdown += '<li>' + str(e)+'</li>'\n",
    "        #markdown +=\" <br> \"\n",
    "    markdown+='</ul>'\n",
    "    return markdown"
   ]
  },
  {
   "cell_type": "code",
   "execution_count": 63,
   "id": "bulgarian-eight",
   "metadata": {},
   "outputs": [
    {
     "data": {
      "text/plain": [
       "'<ul><li>Manufacturer</li><li>ManufacturerModelName</li><li>Modality</li><li>SOPClassUID</li><li>SOPInstanceUID</li><li>SeriesInstanceUID</li><li>SeriesNumber</li><li>SoftwareVersions</li><li>StationName</li></ul>'"
      ]
     },
     "execution_count": 63,
     "metadata": {},
     "output_type": "execute_result"
    }
   ],
   "source": [
    "make_markdown_table(differentvalue)"
   ]
  },
  {
   "cell_type": "code",
   "execution_count": 42,
   "id": "arranged-plaintiff",
   "metadata": {},
   "outputs": [],
   "source": [
    "samevalues=[]\n",
    "differentvalue=[]\n",
    "for x in common:\n",
    "    if (plansimple.data_element(x).value==imagen.data_element(x).value):\n",
    "        samevalues.append(x)\n",
    "    else:\n",
    "        differentvalue.append(x)"
   ]
  },
  {
   "cell_type": "code",
   "execution_count": 43,
   "id": "alternative-helen",
   "metadata": {},
   "outputs": [
    {
     "data": {
      "text/plain": [
       "['AccessionNumber',\n",
       " 'FrameOfReferenceUID',\n",
       " 'PatientBirthDate',\n",
       " 'PatientID',\n",
       " 'PatientName',\n",
       " 'PatientSex',\n",
       " 'PositionReferenceIndicator',\n",
       " 'ReferringPhysicianName',\n",
       " 'SpecificCharacterSet',\n",
       " 'StudyDate',\n",
       " 'StudyDescription',\n",
       " 'StudyID',\n",
       " 'StudyInstanceUID',\n",
       " 'StudyTime']"
      ]
     },
     "execution_count": 43,
     "metadata": {},
     "output_type": "execute_result"
    }
   ],
   "source": [
    "samevalues"
   ]
  },
  {
   "cell_type": "code",
   "execution_count": 44,
   "id": "million-harassment",
   "metadata": {},
   "outputs": [
    {
     "data": {
      "text/plain": [
       "['Manufacturer',\n",
       " 'ManufacturerModelName',\n",
       " 'Modality',\n",
       " 'SOPClassUID',\n",
       " 'SOPInstanceUID',\n",
       " 'SeriesInstanceUID',\n",
       " 'SeriesNumber',\n",
       " 'SoftwareVersions',\n",
       " 'StationName']"
      ]
     },
     "execution_count": 44,
     "metadata": {},
     "output_type": "execute_result"
    }
   ],
   "source": [
    "differentvalue"
   ]
  },
  {
   "cell_type": "code",
   "execution_count": 76,
   "id": "early-testament",
   "metadata": {},
   "outputs": [],
   "source": [
    "A=pd.DataFrame([[x,plansimple.data_element(x).value,plancomplejo.data_element(x).value,plancomplejo2.data_element(x).value,imagen.data_element(x).value] for x in differentvalue],columns=['tag','Plan1','Plan2','Plan3','Imagen'])"
   ]
  },
  {
   "cell_type": "code",
   "execution_count": 77,
   "id": "fixed-ultimate",
   "metadata": {},
   "outputs": [
    {
     "data": {
      "text/plain": [
       "['tag', 'Plan1', 'Plan2', 'Plan3', 'Imagen']"
      ]
     },
     "execution_count": 77,
     "metadata": {},
     "output_type": "execute_result"
    }
   ],
   "source": [
    "A.columns.tolist()"
   ]
  },
  {
   "cell_type": "code",
   "execution_count": 78,
   "id": "comfortable-light",
   "metadata": {},
   "outputs": [
    {
     "data": {
      "text/html": [
       "<div>\n",
       "<style scoped>\n",
       "    .dataframe tbody tr th:only-of-type {\n",
       "        vertical-align: middle;\n",
       "    }\n",
       "\n",
       "    .dataframe tbody tr th {\n",
       "        vertical-align: top;\n",
       "    }\n",
       "\n",
       "    .dataframe thead th {\n",
       "        text-align: right;\n",
       "    }\n",
       "</style>\n",
       "<table border=\"1\" class=\"dataframe\">\n",
       "  <thead>\n",
       "    <tr style=\"text-align: right;\">\n",
       "      <th></th>\n",
       "      <th>Plan1</th>\n",
       "      <th>Plan2</th>\n",
       "      <th>Plan3</th>\n",
       "      <th>Imagen</th>\n",
       "    </tr>\n",
       "    <tr>\n",
       "      <th>tag</th>\n",
       "      <th></th>\n",
       "      <th></th>\n",
       "      <th></th>\n",
       "      <th></th>\n",
       "    </tr>\n",
       "  </thead>\n",
       "  <tbody>\n",
       "    <tr>\n",
       "      <th>Manufacturer</th>\n",
       "      <td>Nucletron</td>\n",
       "      <td>Nucletron</td>\n",
       "      <td>Nucletron</td>\n",
       "      <td>GE MEDICAL SYSTEMS</td>\n",
       "    </tr>\n",
       "    <tr>\n",
       "      <th>ManufacturerModelName</th>\n",
       "      <td>Oncentra</td>\n",
       "      <td>Oncentra</td>\n",
       "      <td>Oncentra</td>\n",
       "      <td>Signa HDxt</td>\n",
       "    </tr>\n",
       "    <tr>\n",
       "      <th>Modality</th>\n",
       "      <td>RTPLAN</td>\n",
       "      <td>RTPLAN</td>\n",
       "      <td>RTPLAN</td>\n",
       "      <td>MR</td>\n",
       "    </tr>\n",
       "    <tr>\n",
       "      <th>SOPClassUID</th>\n",
       "      <td>1.2.840.10008.5.1.4.1.1.481.5</td>\n",
       "      <td>1.2.840.10008.5.1.4.1.1.481.5</td>\n",
       "      <td>1.2.840.10008.5.1.4.1.1.481.5</td>\n",
       "      <td>1.2.840.10008.5.1.4.1.1.4</td>\n",
       "    </tr>\n",
       "    <tr>\n",
       "      <th>SOPInstanceUID</th>\n",
       "      <td>1.3.6.1.4.1.2452.6.2743304011.1151359869.12204...</td>\n",
       "      <td>1.3.6.1.4.1.2452.6.2774509762.1153355867.34264...</td>\n",
       "      <td>1.3.6.1.4.1.2452.6.2633641423.1222660011.25835...</td>\n",
       "      <td>1.3.6.1.4.1.2452.6.1019122476.1241727211.17704...</td>\n",
       "    </tr>\n",
       "    <tr>\n",
       "      <th>SeriesInstanceUID</th>\n",
       "      <td>1.3.6.1.4.1.2452.6.3396086542.1231529005.38488...</td>\n",
       "      <td>1.3.6.1.4.1.2452.6.2747787005.1263068138.27367...</td>\n",
       "      <td>1.3.6.1.4.1.2452.6.1938074019.1188018291.41990...</td>\n",
       "      <td>1.3.6.1.4.1.2452.6.3150457222.1106452005.39453...</td>\n",
       "    </tr>\n",
       "    <tr>\n",
       "      <th>SeriesNumber</th>\n",
       "      <td>1</td>\n",
       "      <td>1</td>\n",
       "      <td>1</td>\n",
       "      <td>5</td>\n",
       "    </tr>\n",
       "    <tr>\n",
       "      <th>SoftwareVersions</th>\n",
       "      <td>OTP V4.5.3.30</td>\n",
       "      <td>OTP V4.5.2.152</td>\n",
       "      <td>OTP V4.5.3.30</td>\n",
       "      <td>[24, LX, MR Software release:HD16.0_V03_1638.a]</td>\n",
       "    </tr>\n",
       "    <tr>\n",
       "      <th>StationName</th>\n",
       "      <td>RT-BRACHYT</td>\n",
       "      <td>PC009761</td>\n",
       "      <td>PC009761</td>\n",
       "      <td>NHFEMR04</td>\n",
       "    </tr>\n",
       "  </tbody>\n",
       "</table>\n",
       "</div>"
      ],
      "text/plain": [
       "                                                                   Plan1  \\\n",
       "tag                                                                        \n",
       "Manufacturer                                                   Nucletron   \n",
       "ManufacturerModelName                                           Oncentra   \n",
       "Modality                                                          RTPLAN   \n",
       "SOPClassUID                                1.2.840.10008.5.1.4.1.1.481.5   \n",
       "SOPInstanceUID         1.3.6.1.4.1.2452.6.2743304011.1151359869.12204...   \n",
       "SeriesInstanceUID      1.3.6.1.4.1.2452.6.3396086542.1231529005.38488...   \n",
       "SeriesNumber                                                           1   \n",
       "SoftwareVersions                                           OTP V4.5.3.30   \n",
       "StationName                                                   RT-BRACHYT   \n",
       "\n",
       "                                                                   Plan2  \\\n",
       "tag                                                                        \n",
       "Manufacturer                                                   Nucletron   \n",
       "ManufacturerModelName                                           Oncentra   \n",
       "Modality                                                          RTPLAN   \n",
       "SOPClassUID                                1.2.840.10008.5.1.4.1.1.481.5   \n",
       "SOPInstanceUID         1.3.6.1.4.1.2452.6.2774509762.1153355867.34264...   \n",
       "SeriesInstanceUID      1.3.6.1.4.1.2452.6.2747787005.1263068138.27367...   \n",
       "SeriesNumber                                                           1   \n",
       "SoftwareVersions                                          OTP V4.5.2.152   \n",
       "StationName                                                     PC009761   \n",
       "\n",
       "                                                                   Plan3  \\\n",
       "tag                                                                        \n",
       "Manufacturer                                                   Nucletron   \n",
       "ManufacturerModelName                                           Oncentra   \n",
       "Modality                                                          RTPLAN   \n",
       "SOPClassUID                                1.2.840.10008.5.1.4.1.1.481.5   \n",
       "SOPInstanceUID         1.3.6.1.4.1.2452.6.2633641423.1222660011.25835...   \n",
       "SeriesInstanceUID      1.3.6.1.4.1.2452.6.1938074019.1188018291.41990...   \n",
       "SeriesNumber                                                           1   \n",
       "SoftwareVersions                                           OTP V4.5.3.30   \n",
       "StationName                                                     PC009761   \n",
       "\n",
       "                                                                  Imagen  \n",
       "tag                                                                       \n",
       "Manufacturer                                          GE MEDICAL SYSTEMS  \n",
       "ManufacturerModelName                                         Signa HDxt  \n",
       "Modality                                                              MR  \n",
       "SOPClassUID                                    1.2.840.10008.5.1.4.1.1.4  \n",
       "SOPInstanceUID         1.3.6.1.4.1.2452.6.1019122476.1241727211.17704...  \n",
       "SeriesInstanceUID      1.3.6.1.4.1.2452.6.3150457222.1106452005.39453...  \n",
       "SeriesNumber                                                           5  \n",
       "SoftwareVersions         [24, LX, MR Software release:HD16.0_V03_1638.a]  \n",
       "StationName                                                     NHFEMR04  "
      ]
     },
     "execution_count": 78,
     "metadata": {},
     "output_type": "execute_result"
    }
   ],
   "source": [
    "A.set_index('tag')"
   ]
  },
  {
   "cell_type": "code",
   "execution_count": 79,
   "id": "broad-hungary",
   "metadata": {},
   "outputs": [],
   "source": [
    "A.to_csv('camposnocomunes.csv',columns=A.columns.tolist(),index=False)"
   ]
  },
  {
   "cell_type": "code",
   "execution_count": null,
   "id": "racial-savannah",
   "metadata": {},
   "outputs": [],
   "source": [
    "plan.data_element('AccessionNumber').value"
   ]
  },
  {
   "cell_type": "code",
   "execution_count": null,
   "id": "prospective-creek",
   "metadata": {},
   "outputs": [],
   "source": [
    "plan.AccessionNumber"
   ]
  },
  {
   "cell_type": "code",
   "execution_count": null,
   "id": "flying-thailand",
   "metadata": {},
   "outputs": [],
   "source": []
  },
  {
   "cell_type": "code",
   "execution_count": null,
   "id": "suffering-catholic",
   "metadata": {},
   "outputs": [],
   "source": [
    "imagen.dir()"
   ]
  },
  {
   "cell_type": "code",
   "execution_count": null,
   "id": "colonial-dancing",
   "metadata": {},
   "outputs": [],
   "source": []
  }
 ],
 "metadata": {
  "kernelspec": {
   "display_name": "Python 3",
   "language": "python",
   "name": "python3"
  },
  "language_info": {
   "codemirror_mode": {
    "name": "ipython",
    "version": 3
   },
   "file_extension": ".py",
   "mimetype": "text/x-python",
   "name": "python",
   "nbconvert_exporter": "python",
   "pygments_lexer": "ipython3",
   "version": "3.6.13"
  }
 },
 "nbformat": 4,
 "nbformat_minor": 5
}