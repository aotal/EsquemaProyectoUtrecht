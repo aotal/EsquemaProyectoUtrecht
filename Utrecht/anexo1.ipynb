{
 "cells": [
  {
   "cell_type": "code",
   "execution_count": 15,
   "id": "graduate-benjamin",
   "metadata": {
    "tags": [
     "remove-input"
    ]
   },
   "outputs": [],
   "source": [
    "import pandas as pd\n",
    "from myst_nb import glue\n",
    "import pydicom as dc"
   ]
  },
  {
   "cell_type": "code",
   "execution_count": 16,
   "id": "prerequisite-leather",
   "metadata": {
    "tags": []
   },
   "outputs": [],
   "source": [
    "import uuid\n",
    "from datetime import datetime\n",
    "import pytz"
   ]
  },
  {
   "cell_type": "code",
   "execution_count": 18,
   "id": "overall-municipality",
   "metadata": {
    "tags": [
     "remove-input"
    ]
   },
   "outputs": [],
   "source": [
    "estructura=dc.read_file('Ficheros/EstructuraSimple.dcm')\n",
    "plansimple=dc.read_file('Ficheros/PlanSimple.dcm')"
   ]
  },
  {
   "cell_type": "markdown",
   "id": "sonic-gasoline",
   "metadata": {},
   "source": [
    "# Anexo 1: Creación y exportación Dicom"
   ]
  },
  {
   "cell_type": "markdown",
   "id": "applied-safety",
   "metadata": {},
   "source": [
    "## Introducción"
   ]
  },
  {
   "cell_type": "markdown",
   "id": "ecological-equipment",
   "metadata": {},
   "source": [
    "Como proyecto paralelo a la reconstrucción completamente automática y utilizando la herramienta de [anotación](capitulo:anotation) que hemos desarrollado, podemos utilizar el resultado que proporciona la herramienta para hacer un uso clínico del mismo, es decir, incorporar la reconstrucción realizada al flujo de trabajo. Para ello vamos a investigar la estrura de los ficheros dicom de imágenes y ejemplos de exportación del plan para generar uno que pueda ser importado en Oncentra con la reconstrucción ya hecha."
   ]
  },
  {
   "cell_type": "markdown",
   "id": "earned-future",
   "metadata": {},
   "source": [
    "## Tags comunes entre imágenes y plan: "
   ]
  },
  {
   "cell_type": "markdown",
   "id": "christian-patient",
   "metadata": {},
   "source": [
    "Hay 23 tags comunes entre un fichero de secuencia de imágenes y uno tipo RTPlan. De ellos, 14 poseen el mismo valor y por lo tanto el mismo viene definido de la MRI. La lista es:"
   ]
  },
  {
   "cell_type": "markdown",
   "id": "secure-ordinary",
   "metadata": {},
   "source": [
    "<ul><li>AccessionNumber</li><li>FrameOfReferenceUID</li><li>PatientBirthDate</li><li>PatientID</li><li>PatientName</li><li>PatientSex</li><li>PositionReferenceIndicator</li><li>ReferringPhysicianName</li><li>SpecificCharacterSet</li><li>StudyDate</li><li>StudyDescription</li><li>StudyID</li><li>StudyInstanceUID</li><li>StudyTime</li></ul>"
   ]
  },
  {
   "cell_type": "markdown",
   "id": "certified-detector",
   "metadata": {},
   "source": [
    "### Tags de diferente valor"
   ]
  },
  {
   "cell_type": "markdown",
   "id": "crazy-xerox",
   "metadata": {},
   "source": [
    "Los 9 que nos quedan se muestran en la tabla siguiente con valores ejemplo de tres planes diferentes y de un archivo de imagen:"
   ]
  },
  {
   "cell_type": "code",
   "execution_count": 8,
   "id": "coordinated-africa",
   "metadata": {
    "tags": [
     "remove-input"
    ]
   },
   "outputs": [
    {
     "data": {
      "text/html": [
       "<div>\n",
       "<style scoped>\n",
       "    .dataframe tbody tr th:only-of-type {\n",
       "        vertical-align: middle;\n",
       "    }\n",
       "\n",
       "    .dataframe tbody tr th {\n",
       "        vertical-align: top;\n",
       "    }\n",
       "\n",
       "    .dataframe thead th {\n",
       "        text-align: right;\n",
       "    }\n",
       "</style>\n",
       "<table border=\"1\" class=\"dataframe\">\n",
       "  <thead>\n",
       "    <tr style=\"text-align: right;\">\n",
       "      <th></th>\n",
       "      <th>Plan1</th>\n",
       "      <th>Plan2</th>\n",
       "      <th>Plan3</th>\n",
       "      <th>Imagen</th>\n",
       "    </tr>\n",
       "    <tr>\n",
       "      <th>tag</th>\n",
       "      <th></th>\n",
       "      <th></th>\n",
       "      <th></th>\n",
       "      <th></th>\n",
       "    </tr>\n",
       "  </thead>\n",
       "  <tbody>\n",
       "    <tr>\n",
       "      <th>Manufacturer</th>\n",
       "      <td>Nucletron</td>\n",
       "      <td>Nucletron</td>\n",
       "      <td>Nucletron</td>\n",
       "      <td>GE MEDICAL SYSTEMS</td>\n",
       "    </tr>\n",
       "    <tr>\n",
       "      <th>ManufacturerModelName</th>\n",
       "      <td>Oncentra</td>\n",
       "      <td>Oncentra</td>\n",
       "      <td>Oncentra</td>\n",
       "      <td>Signa HDxt</td>\n",
       "    </tr>\n",
       "    <tr>\n",
       "      <th>Modality</th>\n",
       "      <td>RTPLAN</td>\n",
       "      <td>RTPLAN</td>\n",
       "      <td>RTPLAN</td>\n",
       "      <td>MR</td>\n",
       "    </tr>\n",
       "    <tr>\n",
       "      <th>SOPClassUID</th>\n",
       "      <td>1.2.840.10008.5.1.4.1.1.481.5</td>\n",
       "      <td>1.2.840.10008.5.1.4.1.1.481.5</td>\n",
       "      <td>1.2.840.10008.5.1.4.1.1.481.5</td>\n",
       "      <td>1.2.840.10008.5.1.4.1.1.4</td>\n",
       "    </tr>\n",
       "    <tr>\n",
       "      <th>SOPInstanceUID</th>\n",
       "      <td>1.3.6.1.4.1.2452.6.2743304011.1151359869.12204...</td>\n",
       "      <td>1.3.6.1.4.1.2452.6.2774509762.1153355867.34264...</td>\n",
       "      <td>1.3.6.1.4.1.2452.6.2633641423.1222660011.25835...</td>\n",
       "      <td>1.3.6.1.4.1.2452.6.1019122476.1241727211.17704...</td>\n",
       "    </tr>\n",
       "    <tr>\n",
       "      <th>SeriesInstanceUID</th>\n",
       "      <td>1.3.6.1.4.1.2452.6.3396086542.1231529005.38488...</td>\n",
       "      <td>1.3.6.1.4.1.2452.6.2747787005.1263068138.27367...</td>\n",
       "      <td>1.3.6.1.4.1.2452.6.1938074019.1188018291.41990...</td>\n",
       "      <td>1.3.6.1.4.1.2452.6.3150457222.1106452005.39453...</td>\n",
       "    </tr>\n",
       "    <tr>\n",
       "      <th>SeriesNumber</th>\n",
       "      <td>1</td>\n",
       "      <td>1</td>\n",
       "      <td>1</td>\n",
       "      <td>5</td>\n",
       "    </tr>\n",
       "    <tr>\n",
       "      <th>SoftwareVersions</th>\n",
       "      <td>OTP V4.5.3.30</td>\n",
       "      <td>OTP V4.5.2.152</td>\n",
       "      <td>OTP V4.5.3.30</td>\n",
       "      <td>['24', 'LX', 'MR Software release:HD16.0_V03_1...</td>\n",
       "    </tr>\n",
       "    <tr>\n",
       "      <th>StationName</th>\n",
       "      <td>RT-BRACHYT</td>\n",
       "      <td>PC009761</td>\n",
       "      <td>PC009761</td>\n",
       "      <td>NHFEMR04</td>\n",
       "    </tr>\n",
       "  </tbody>\n",
       "</table>\n",
       "</div>"
      ],
      "text/plain": [
       "                                                                   Plan1  \\\n",
       "tag                                                                        \n",
       "Manufacturer                                                   Nucletron   \n",
       "ManufacturerModelName                                           Oncentra   \n",
       "Modality                                                          RTPLAN   \n",
       "SOPClassUID                                1.2.840.10008.5.1.4.1.1.481.5   \n",
       "SOPInstanceUID         1.3.6.1.4.1.2452.6.2743304011.1151359869.12204...   \n",
       "SeriesInstanceUID      1.3.6.1.4.1.2452.6.3396086542.1231529005.38488...   \n",
       "SeriesNumber                                                           1   \n",
       "SoftwareVersions                                           OTP V4.5.3.30   \n",
       "StationName                                                   RT-BRACHYT   \n",
       "\n",
       "                                                                   Plan2  \\\n",
       "tag                                                                        \n",
       "Manufacturer                                                   Nucletron   \n",
       "ManufacturerModelName                                           Oncentra   \n",
       "Modality                                                          RTPLAN   \n",
       "SOPClassUID                                1.2.840.10008.5.1.4.1.1.481.5   \n",
       "SOPInstanceUID         1.3.6.1.4.1.2452.6.2774509762.1153355867.34264...   \n",
       "SeriesInstanceUID      1.3.6.1.4.1.2452.6.2747787005.1263068138.27367...   \n",
       "SeriesNumber                                                           1   \n",
       "SoftwareVersions                                          OTP V4.5.2.152   \n",
       "StationName                                                     PC009761   \n",
       "\n",
       "                                                                   Plan3  \\\n",
       "tag                                                                        \n",
       "Manufacturer                                                   Nucletron   \n",
       "ManufacturerModelName                                           Oncentra   \n",
       "Modality                                                          RTPLAN   \n",
       "SOPClassUID                                1.2.840.10008.5.1.4.1.1.481.5   \n",
       "SOPInstanceUID         1.3.6.1.4.1.2452.6.2633641423.1222660011.25835...   \n",
       "SeriesInstanceUID      1.3.6.1.4.1.2452.6.1938074019.1188018291.41990...   \n",
       "SeriesNumber                                                           1   \n",
       "SoftwareVersions                                           OTP V4.5.3.30   \n",
       "StationName                                                     PC009761   \n",
       "\n",
       "                                                                  Imagen  \n",
       "tag                                                                       \n",
       "Manufacturer                                          GE MEDICAL SYSTEMS  \n",
       "ManufacturerModelName                                         Signa HDxt  \n",
       "Modality                                                              MR  \n",
       "SOPClassUID                                    1.2.840.10008.5.1.4.1.1.4  \n",
       "SOPInstanceUID         1.3.6.1.4.1.2452.6.1019122476.1241727211.17704...  \n",
       "SeriesInstanceUID      1.3.6.1.4.1.2452.6.3150457222.1106452005.39453...  \n",
       "SeriesNumber                                                           5  \n",
       "SoftwareVersions       ['24', 'LX', 'MR Software release:HD16.0_V03_1...  \n",
       "StationName                                                     NHFEMR04  "
      ]
     },
     "execution_count": 8,
     "metadata": {},
     "output_type": "execute_result"
    }
   ],
   "source": [
    "campos=pd.read_csv('data/camposnocomunes.csv')\n",
    "campos.set_index('tag')"
   ]
  },
  {
   "cell_type": "markdown",
   "id": "quality-harbor",
   "metadata": {},
   "source": [
    "Hay una serie de ellos que no nos van a suponer ningún problema. No obstante detengámonos en cada uno de ellos"
   ]
  },
  {
   "cell_type": "markdown",
   "id": "electric-specification",
   "metadata": {},
   "source": [
    "#### Manufacter y ManufacturerModelName"
   ]
  },
  {
   "cell_type": "markdown",
   "id": "violent-crime",
   "metadata": {},
   "source": [
    "Podemos poner en ambos el nombre que queramos por ejemplo **IRIMED** y **UtrechtTool**"
   ]
  },
  {
   "cell_type": "markdown",
   "id": "theoretical-platinum",
   "metadata": {},
   "source": [
    "#### Modality"
   ]
  },
  {
   "cell_type": "markdown",
   "id": "sealed-diabetes",
   "metadata": {},
   "source": [
    "Esta debe ser obligatoriamente **RTPlan**"
   ]
  },
  {
   "cell_type": "markdown",
   "id": "combined-figure",
   "metadata": {},
   "source": [
    "#### SeriesNumber"
   ]
  },
  {
   "cell_type": "markdown",
   "id": "handy-consultancy",
   "metadata": {},
   "source": [
    "En esta pondremos **1**"
   ]
  },
  {
   "cell_type": "markdown",
   "id": "warming-belle",
   "metadata": {},
   "source": [
    "#### SoftwareVersion y StationName"
   ]
  },
  {
   "cell_type": "markdown",
   "id": "green-cathedral",
   "metadata": {},
   "source": [
    "De momento pondremos **1.0** para la primera y **3DSlicer** para la segunda."
   ]
  },
  {
   "cell_type": "markdown",
   "id": "complex-voice",
   "metadata": {},
   "source": [
    "Ahora entramos en los campos no tan evidentes"
   ]
  },
  {
   "cell_type": "markdown",
   "id": "czech-species",
   "metadata": {},
   "source": [
    "#### SOPClassUID"
   ]
  },
  {
   "cell_type": "markdown",
   "id": "colonial-ministry",
   "metadata": {},
   "source": [
    "Por lo que vemos en los diferentes planes, este valor es común. EL valor **1.2.840.10008.5.1.4.1.1.481.5** corresponde a un _Radiation Therapy Plan Storage_."
   ]
  },
  {
   "cell_type": "markdown",
   "id": "increasing-welcome",
   "metadata": {},
   "source": [
    "#### SOPInstanceUID y SeriesInstanceUID"
   ]
  },
  {
   "cell_type": "markdown",
   "id": "aerial-executive",
   "metadata": {},
   "source": [
    "En el caso de estos dos valores las cosas no están tan claras. Parece que poseeen el mismo prefijo que sus equivalentes en el fichero de imagen. La segunda parte corresponde a un número aleatorio de entre 39 y 40 cifras separado en grupos de 10 por puntos. Así pues los generamos con el siguiente código:"
   ]
  },
  {
   "cell_type": "code",
   "execution_count": 9,
   "id": "regulation-factor",
   "metadata": {},
   "outputs": [
    {
     "data": {
      "text/plain": [
       "'1.3.6.1.4.1.2452.6.1384421345.8218960014.8604649631.058955814'"
      ]
     },
     "execution_count": 9,
     "metadata": {},
     "output_type": "execute_result"
    }
   ],
   "source": [
    "prefix='1.3.6.1.4.1.2452.6.'\n",
    "def UIDgenerator(prefix):\n",
    "    while True:\n",
    "        uid=str(uuid.uuid4().int)\n",
    "        if (len(uid)>=39):\n",
    "             return prefix+uid[0:10]+'.'+uid[10:20]+'.'+uid[20:30]+'.'+uid[30:]\n",
    "UIDgenerator(prefix)"
   ]
  },
  {
   "cell_type": "markdown",
   "id": "transsexual-reproduction",
   "metadata": {},
   "source": [
    "## Tags no comunes"
   ]
  },
  {
   "cell_type": "markdown",
   "id": "olympic-assault",
   "metadata": {},
   "source": [
    "### Tags no sequence"
   ]
  },
  {
   "cell_type": "markdown",
   "id": "revised-behavior",
   "metadata": {},
   "source": [
    "<ul><li>ApprovalStatus</li><li>BrachyTreatmentTechnique</li><li>BrachyTreatmentType</li><li>InstanceCreationDate</li><li>InstanceCreationTime</li><li>InstitutionalDepartmentName</li><li>OperatorsName</li><li>RTPlanDate</li><li>RTPlanGeometry</li><li>RTPlanLabel</li><li>RTPlanName</li><li>RTPlanTime</li><li>TimezoneOffsetFromUTC</li></ul>"
   ]
  },
  {
   "cell_type": "markdown",
   "id": "elder-enlargement",
   "metadata": {},
   "source": [
    "#### ApprovalStatus\n",
    "\n",
    "El valor será **UNAPPROVED**"
   ]
  },
  {
   "cell_type": "markdown",
   "id": "split-valuable",
   "metadata": {},
   "source": [
    "#### BrachyTreatmentTechnique\n",
    "\n",
    "Pondremos valor **INTERSTITIAL**"
   ]
  },
  {
   "cell_type": "markdown",
   "id": "resident-wisdom",
   "metadata": {},
   "source": [
    "#### BrachyTreatmentType\n",
    "El valor es **HDR**"
   ]
  },
  {
   "cell_type": "markdown",
   "id": "vocal-turtle",
   "metadata": {},
   "source": [
    "#### InstanceCreationDate y InstanceCreationTime\n",
    "Fecha del día de la creación del plan en formato AAAAMMDD y la hora HHMMSS"
   ]
  },
  {
   "cell_type": "code",
   "execution_count": 10,
   "id": "promotional-small",
   "metadata": {},
   "outputs": [
    {
     "name": "stdout",
     "output_type": "stream",
     "text": [
      "20210326 085640\n"
     ]
    }
   ],
   "source": [
    "Hoy=datetime.today()\n",
    "print(Hoy.strftime(\"%Y%m%d\"),Hoy.strftime(\"%H%M%S\"))"
   ]
  },
  {
   "cell_type": "markdown",
   "id": "caroline-buying",
   "metadata": {},
   "source": [
    "#### OperatorsName\n",
    "\n",
    "Cuanquiera. **Plan** por ejemplo."
   ]
  },
  {
   "cell_type": "markdown",
   "id": "legislative-importance",
   "metadata": {},
   "source": [
    "#### RTPlanDate\n",
    "\n",
    "La misma que **InstanceCreationTime**"
   ]
  },
  {
   "cell_type": "markdown",
   "id": "sealed-receipt",
   "metadata": {},
   "source": [
    "#### RTPlanGeometry\n",
    "El valor es **PATIENT**"
   ]
  },
  {
   "cell_type": "markdown",
   "id": "plain-korea",
   "metadata": {},
   "source": [
    "#### RTPlanLabel y RTPlanName\n",
    "Por ejemplo **IRIMED** en ambos"
   ]
  },
  {
   "cell_type": "markdown",
   "id": "complete-chester",
   "metadata": {},
   "source": [
    "#### RTPlanTime\n",
    "El mismo valor que InstanceCreationTime"
   ]
  },
  {
   "cell_type": "markdown",
   "id": "serial-despite",
   "metadata": {},
   "source": [
    "#### TimezoneOffsetFromUTC\n",
    "La función que nos da el valor del tag se muestra a continuación"
   ]
  },
  {
   "cell_type": "code",
   "execution_count": 11,
   "id": "combined-village",
   "metadata": {},
   "outputs": [],
   "source": [
    "def DiferenciaUTC(X='Europe/Madrid'):\n",
    "    delta=pytz.timezone(X).utcoffset(datetime.today())\n",
    "    delta=delta.days*24+delta.seconds//3600\n",
    "    return \"{:=+03d}00\".format(delta)"
   ]
  },
  {
   "cell_type": "code",
   "execution_count": 12,
   "id": "developed-shadow",
   "metadata": {},
   "outputs": [
    {
     "data": {
      "text/plain": [
       "'+0100'"
      ]
     },
     "execution_count": 12,
     "metadata": {},
     "output_type": "execute_result"
    }
   ],
   "source": [
    "DiferenciaUTC()"
   ]
  },
  {
   "cell_type": "code",
   "execution_count": 13,
   "id": "insured-advocate",
   "metadata": {},
   "outputs": [
    {
     "data": {
      "text/plain": [
       "'-0700'"
      ]
     },
     "execution_count": 13,
     "metadata": {},
     "output_type": "execute_result"
    }
   ],
   "source": [
    "DiferenciaUTC('US/Pacific')"
   ]
  },
  {
   "cell_type": "markdown",
   "id": "hollywood-lawsuit",
   "metadata": {},
   "source": [
    "### Tags sequence"
   ]
  },
  {
   "cell_type": "markdown",
   "id": "collaborative-convergence",
   "metadata": {},
   "source": [
    "La lista de tags de secuencia son los siguientes"
   ]
  },
  {
   "cell_type": "markdown",
   "id": "waiting-madrid",
   "metadata": {},
   "source": [
    "<ul><li>FractionGroupSequence</li><li>ReferencedStructureSetSequence</li><li>SourceSequence</li><li>TreatmentMachineSequence</li><li>ApplicationSetupSequence</li></ul>"
   ]
  },
  {
   "cell_type": "markdown",
   "id": "joint-honduras",
   "metadata": {},
   "source": [
    "Salvo que se diga lo contrario siempre nos referiremos a la posición 0 de la secuencia"
   ]
  },
  {
   "cell_type": "markdown",
   "id": "surgical-precipitation",
   "metadata": {},
   "source": [
    "#### FractionGroupSequence\n",
    "Dejaremos el siguiente tag por defecto"
   ]
  },
  {
   "cell_type": "code",
   "execution_count": 22,
   "id": "supported-protection",
   "metadata": {
    "tags": [
     "remove-input"
    ]
   },
   "outputs": [
    {
     "name": "stdout",
     "output_type": "stream",
     "text": [
      "(300a, 0071) Fraction Group Number               IS: \"1\"\n",
      "(300a, 0078) Number of Fractions Planned         IS: \"1\"\n",
      "(300a, 0080) Number of Beams                     IS: \"0\"\n",
      "(300a, 00a0) Number of Brachy Application Setups IS: \"1\"\n",
      "(300c, 000a)  Referenced Brachy Application Setup Sequence  1 item(s) ---- \n",
      "   (300c, 000c) Referenced Brachy Application Setup IS: \"0\"\n",
      "   ---------\n"
     ]
    }
   ],
   "source": [
    "print(plansimple.data_element('FractionGroupSequence').value[0])"
   ]
  },
  {
   "cell_type": "markdown",
   "id": "needed-crazy",
   "metadata": {},
   "source": [
    "#### ReferencedStructureSetSequence\n",
    "El aspecto del tag es el siguiente:"
   ]
  },
  {
   "cell_type": "code",
   "execution_count": 23,
   "id": "lyric-accident",
   "metadata": {
    "tags": [
     "remove-input"
    ]
   },
   "outputs": [
    {
     "name": "stdout",
     "output_type": "stream",
     "text": [
      "(0008, 1150) Referenced SOP Class UID            UI: RT Structure Set Storage\n",
      "(0008, 1155) Referenced SOP Instance UID         UI: 1.3.6.1.4.1.2452.6.2664562426.1288265039.467152794.2028798075\n"
     ]
    }
   ],
   "source": [
    "print(plansimple.data_element('ReferencedStructureSetSequence').value[0])"
   ]
  },
  {
   "cell_type": "markdown",
   "id": "controlling-sleep",
   "metadata": {},
   "source": [
    "Simplemente debemos localizar en el fichero de estructuras los campos SOPClassUID y SOPInstanceUID e incorporar esos valores a los sub tags. "
   ]
  },
  {
   "cell_type": "markdown",
   "id": "horizontal-monthly",
   "metadata": {},
   "source": [
    "#### SourceSequence\n",
    "Esta secuencia tiene el siguiente aspecto:"
   ]
  },
  {
   "cell_type": "code",
   "execution_count": 24,
   "id": "danish-speech",
   "metadata": {},
   "outputs": [
    {
     "name": "stdout",
     "output_type": "stream",
     "text": [
      "(300a, 0212) Source Number                       IS: \"0\"\n",
      "(300a, 0214) Source Type                         CS: 'LINE'\n",
      "(300a, 0226) Source Isotope Name                 LO: 'Ir-192'\n",
      "(300a, 0228) Source Isotope Half Life            DS: \"73.81\"\n",
      "(300a, 0229) Source Strength Units               CS: 'AIR_KERMA_RATE'\n",
      "(300a, 022a) Reference Air Kerma Rate            DS: \"21733.8274231908\"\n",
      "(300a, 022c) Source Strength Reference Date      DA: '20210323'\n",
      "(300a, 022e) Source Strength Reference Time      TM: '090355'\n",
      "(300b, 0010) Private Creator                     LO: 'NUCLETRON'\n",
      "(300b, 1006) Private tag data                    DS: \"-100663.0\"\n",
      "(300b, 1007) Private tag data                    DS: \"-100693.0\"\n",
      "(300b, 1008) Private tag data                    DT: '20201229143800'\n",
      "(300b, 100c) Private tag data                    DS: None\n"
     ]
    }
   ],
   "source": [
    "print(plansimple.data_element('SourceSequence').value[0])"
   ]
  },
  {
   "cell_type": "markdown",
   "id": "crude-finger",
   "metadata": {},
   "source": [
    "Ignoraremos los private tag data. Para los campos **ReferenceAirKermaRate**,**SourceStrength ReferenceDate** y **SourceStrengthReferenceTime** tenemos dos opciones: O ponemos valores genéricos de fuente, lo más cómodo, o ponemos los valores de la funete que vayamos a utilizar. Lo demás se puede dejar como en el ejemplo "
   ]
  },
  {
   "cell_type": "markdown",
   "id": "german-intention",
   "metadata": {},
   "source": [
    "#### ApplicationSetupSequence"
   ]
  },
  {
   "cell_type": "code",
   "execution_count": null,
   "id": "regional-content",
   "metadata": {},
   "outputs": [],
   "source": []
  }
 ],
 "metadata": {
  "kernelspec": {
   "display_name": "JBook",
   "language": "python",
   "name": "book"
  },
  "language_info": {
   "codemirror_mode": {
    "name": "ipython",
    "version": 3
   },
   "file_extension": ".py",
   "mimetype": "text/x-python",
   "name": "python",
   "nbconvert_exporter": "python",
   "pygments_lexer": "ipython3",
   "version": "3.7.10"
  }
 },
 "nbformat": 4,
 "nbformat_minor": 5
}
