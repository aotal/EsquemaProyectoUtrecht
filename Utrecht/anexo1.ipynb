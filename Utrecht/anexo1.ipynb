{
 "cells": [
  {
   "cell_type": "code",
   "execution_count": 45,
   "metadata": {
    "tags": [
     "remove-input"
    ]
   },
   "outputs": [],
   "source": [
    "import pandas as pd\n",
    "from myst_nb import glue\n",
    "import pydicom as dc"
   ]
  },
  {
   "cell_type": "code",
   "execution_count": 46,
   "metadata": {
    "tags": []
   },
   "outputs": [],
   "source": [
    "import uuid\n",
    "from datetime import datetime\n",
    "import pytz"
   ]
  },
  {
   "cell_type": "code",
   "execution_count": 47,
   "metadata": {
    "tags": [
     "remove-input"
    ]
   },
   "outputs": [],
   "source": [
    "estructura=dc.read_file('Ficheros/EstructuraSimple.dcm')\n",
    "plansimple=dc.read_file('Ficheros/PlanSimple.dcm')\n",
    "plancomplejo2=dc.read_file('Ficheros/PlanComplejo2.dcm')"
   ]
  },
  {
   "cell_type": "markdown",
   "metadata": {},
   "source": [
    "# Anexo 1: Creación y exportación Dicom"
   ]
  },
  {
   "cell_type": "markdown",
   "metadata": {},
   "source": [
    "## Introducción"
   ]
  },
  {
   "cell_type": "markdown",
   "metadata": {},
   "source": [
    "Como proyecto paralelo a la reconstrucción completamente automática y utilizando la herramienta de [anotación](capitulo:anotation) que hemos desarrollado, podemos utilizar el resultado que proporciona la herramienta para hacer un uso clínico del mismo, es decir, incorporar la reconstrucción realizada al flujo de trabajo. Para ello vamos a investigar la estrura de los ficheros dicom de imágenes y ejemplos de exportación del plan para generar uno que pueda ser importado en Oncentra con la reconstrucción ya hecha."
   ]
  },
  {
   "cell_type": "markdown",
   "metadata": {},
   "source": [
    "## Tags comunes entre imágenes y plan: "
   ]
  },
  {
   "cell_type": "markdown",
   "metadata": {},
   "source": [
    "Hay 23 tags comunes entre un fichero de secuencia de imágenes y uno tipo RTPlan. De ellos, 14 poseen el mismo valor y por lo tanto el mismo viene definido de la MRI. La lista es:"
   ]
  },
  {
   "cell_type": "markdown",
   "metadata": {},
   "source": [
    "<ul><li>AccessionNumber</li><li>FrameOfReferenceUID</li><li>PatientBirthDate</li><li>PatientID</li><li>PatientName</li><li>PatientSex</li><li>PositionReferenceIndicator</li><li>ReferringPhysicianName</li><li>SpecificCharacterSet</li><li>StudyDate</li><li>StudyDescription</li><li>StudyID</li><li>StudyInstanceUID</li><li>StudyTime</li></ul>"
   ]
  },
  {
   "cell_type": "markdown",
   "metadata": {},
   "source": [
    "### Tags de diferente valor"
   ]
  },
  {
   "cell_type": "markdown",
   "metadata": {},
   "source": [
    "Los 9 que nos quedan se muestran en la tabla siguiente con valores ejemplo de tres planes diferentes y de un archivo de imagen:"
   ]
  },
  {
   "cell_type": "code",
   "execution_count": 48,
   "metadata": {
    "tags": [
     "remove-input"
    ]
   },
   "outputs": [
    {
     "data": {
      "text/html": [
       "<div>\n",
       "<style scoped>\n",
       "    .dataframe tbody tr th:only-of-type {\n",
       "        vertical-align: middle;\n",
       "    }\n",
       "\n",
       "    .dataframe tbody tr th {\n",
       "        vertical-align: top;\n",
       "    }\n",
       "\n",
       "    .dataframe thead th {\n",
       "        text-align: right;\n",
       "    }\n",
       "</style>\n",
       "<table border=\"1\" class=\"dataframe\">\n",
       "  <thead>\n",
       "    <tr style=\"text-align: right;\">\n",
       "      <th></th>\n",
       "      <th>Plan1</th>\n",
       "      <th>Plan2</th>\n",
       "      <th>Plan3</th>\n",
       "      <th>Imagen</th>\n",
       "    </tr>\n",
       "    <tr>\n",
       "      <th>tag</th>\n",
       "      <th></th>\n",
       "      <th></th>\n",
       "      <th></th>\n",
       "      <th></th>\n",
       "    </tr>\n",
       "  </thead>\n",
       "  <tbody>\n",
       "    <tr>\n",
       "      <th>Manufacturer</th>\n",
       "      <td>Nucletron</td>\n",
       "      <td>Nucletron</td>\n",
       "      <td>Nucletron</td>\n",
       "      <td>GE MEDICAL SYSTEMS</td>\n",
       "    </tr>\n",
       "    <tr>\n",
       "      <th>ManufacturerModelName</th>\n",
       "      <td>Oncentra</td>\n",
       "      <td>Oncentra</td>\n",
       "      <td>Oncentra</td>\n",
       "      <td>Signa HDxt</td>\n",
       "    </tr>\n",
       "    <tr>\n",
       "      <th>Modality</th>\n",
       "      <td>RTPLAN</td>\n",
       "      <td>RTPLAN</td>\n",
       "      <td>RTPLAN</td>\n",
       "      <td>MR</td>\n",
       "    </tr>\n",
       "    <tr>\n",
       "      <th>SOPClassUID</th>\n",
       "      <td>1.2.840.10008.5.1.4.1.1.481.5</td>\n",
       "      <td>1.2.840.10008.5.1.4.1.1.481.5</td>\n",
       "      <td>1.2.840.10008.5.1.4.1.1.481.5</td>\n",
       "      <td>1.2.840.10008.5.1.4.1.1.4</td>\n",
       "    </tr>\n",
       "    <tr>\n",
       "      <th>SOPInstanceUID</th>\n",
       "      <td>1.3.6.1.4.1.2452.6.2743304011.1151359869.12204...</td>\n",
       "      <td>1.3.6.1.4.1.2452.6.2774509762.1153355867.34264...</td>\n",
       "      <td>1.3.6.1.4.1.2452.6.2633641423.1222660011.25835...</td>\n",
       "      <td>1.3.6.1.4.1.2452.6.1019122476.1241727211.17704...</td>\n",
       "    </tr>\n",
       "    <tr>\n",
       "      <th>SeriesInstanceUID</th>\n",
       "      <td>1.3.6.1.4.1.2452.6.3396086542.1231529005.38488...</td>\n",
       "      <td>1.3.6.1.4.1.2452.6.2747787005.1263068138.27367...</td>\n",
       "      <td>1.3.6.1.4.1.2452.6.1938074019.1188018291.41990...</td>\n",
       "      <td>1.3.6.1.4.1.2452.6.3150457222.1106452005.39453...</td>\n",
       "    </tr>\n",
       "    <tr>\n",
       "      <th>SeriesNumber</th>\n",
       "      <td>1</td>\n",
       "      <td>1</td>\n",
       "      <td>1</td>\n",
       "      <td>5</td>\n",
       "    </tr>\n",
       "    <tr>\n",
       "      <th>SoftwareVersions</th>\n",
       "      <td>OTP V4.5.3.30</td>\n",
       "      <td>OTP V4.5.2.152</td>\n",
       "      <td>OTP V4.5.3.30</td>\n",
       "      <td>['24', 'LX', 'MR Software release:HD16.0_V03_1...</td>\n",
       "    </tr>\n",
       "    <tr>\n",
       "      <th>StationName</th>\n",
       "      <td>RT-BRACHYT</td>\n",
       "      <td>PC009761</td>\n",
       "      <td>PC009761</td>\n",
       "      <td>NHFEMR04</td>\n",
       "    </tr>\n",
       "  </tbody>\n",
       "</table>\n",
       "</div>"
      ],
      "text/plain": [
       "                                                                   Plan1  \\\n",
       "tag                                                                        \n",
       "Manufacturer                                                   Nucletron   \n",
       "ManufacturerModelName                                           Oncentra   \n",
       "Modality                                                          RTPLAN   \n",
       "SOPClassUID                                1.2.840.10008.5.1.4.1.1.481.5   \n",
       "SOPInstanceUID         1.3.6.1.4.1.2452.6.2743304011.1151359869.12204...   \n",
       "SeriesInstanceUID      1.3.6.1.4.1.2452.6.3396086542.1231529005.38488...   \n",
       "SeriesNumber                                                           1   \n",
       "SoftwareVersions                                           OTP V4.5.3.30   \n",
       "StationName                                                   RT-BRACHYT   \n",
       "\n",
       "                                                                   Plan2  \\\n",
       "tag                                                                        \n",
       "Manufacturer                                                   Nucletron   \n",
       "ManufacturerModelName                                           Oncentra   \n",
       "Modality                                                          RTPLAN   \n",
       "SOPClassUID                                1.2.840.10008.5.1.4.1.1.481.5   \n",
       "SOPInstanceUID         1.3.6.1.4.1.2452.6.2774509762.1153355867.34264...   \n",
       "SeriesInstanceUID      1.3.6.1.4.1.2452.6.2747787005.1263068138.27367...   \n",
       "SeriesNumber                                                           1   \n",
       "SoftwareVersions                                          OTP V4.5.2.152   \n",
       "StationName                                                     PC009761   \n",
       "\n",
       "                                                                   Plan3  \\\n",
       "tag                                                                        \n",
       "Manufacturer                                                   Nucletron   \n",
       "ManufacturerModelName                                           Oncentra   \n",
       "Modality                                                          RTPLAN   \n",
       "SOPClassUID                                1.2.840.10008.5.1.4.1.1.481.5   \n",
       "SOPInstanceUID         1.3.6.1.4.1.2452.6.2633641423.1222660011.25835...   \n",
       "SeriesInstanceUID      1.3.6.1.4.1.2452.6.1938074019.1188018291.41990...   \n",
       "SeriesNumber                                                           1   \n",
       "SoftwareVersions                                           OTP V4.5.3.30   \n",
       "StationName                                                     PC009761   \n",
       "\n",
       "                                                                  Imagen  \n",
       "tag                                                                       \n",
       "Manufacturer                                          GE MEDICAL SYSTEMS  \n",
       "ManufacturerModelName                                         Signa HDxt  \n",
       "Modality                                                              MR  \n",
       "SOPClassUID                                    1.2.840.10008.5.1.4.1.1.4  \n",
       "SOPInstanceUID         1.3.6.1.4.1.2452.6.1019122476.1241727211.17704...  \n",
       "SeriesInstanceUID      1.3.6.1.4.1.2452.6.3150457222.1106452005.39453...  \n",
       "SeriesNumber                                                           5  \n",
       "SoftwareVersions       ['24', 'LX', 'MR Software release:HD16.0_V03_1...  \n",
       "StationName                                                     NHFEMR04  "
      ]
     },
     "execution_count": 48,
     "metadata": {},
     "output_type": "execute_result"
    }
   ],
   "source": [
    "campos=pd.read_csv('data/camposnocomunes.csv')\n",
    "campos.set_index('tag')"
   ]
  },
  {
   "cell_type": "markdown",
   "metadata": {},
   "source": [
    "Hay una serie de ellos que no nos van a suponer ningún problema. No obstante detengámonos en cada uno de ellos"
   ]
  },
  {
   "cell_type": "markdown",
   "metadata": {},
   "source": [
    "#### Manufacter y ManufacturerModelName"
   ]
  },
  {
   "cell_type": "markdown",
   "metadata": {},
   "source": [
    "Podemos poner en ambos el nombre que queramos por ejemplo **IRIMED** y **UtrechtTool**"
   ]
  },
  {
   "cell_type": "markdown",
   "metadata": {},
   "source": [
    "#### Modality"
   ]
  },
  {
   "cell_type": "markdown",
   "metadata": {},
   "source": [
    "Esta debe ser obligatoriamente **RTPlan**"
   ]
  },
  {
   "cell_type": "markdown",
   "metadata": {},
   "source": [
    "#### SeriesNumber"
   ]
  },
  {
   "cell_type": "markdown",
   "metadata": {},
   "source": [
    "En esta pondremos **1**"
   ]
  },
  {
   "cell_type": "markdown",
   "metadata": {},
   "source": [
    "#### SoftwareVersion y StationName"
   ]
  },
  {
   "cell_type": "markdown",
   "metadata": {},
   "source": [
    "De momento pondremos **1.0** para la primera y **3DSlicer** para la segunda."
   ]
  },
  {
   "cell_type": "markdown",
   "metadata": {},
   "source": [
    "Ahora entramos en los campos no tan evidentes"
   ]
  },
  {
   "cell_type": "markdown",
   "metadata": {},
   "source": [
    "#### SOPClassUID"
   ]
  },
  {
   "cell_type": "markdown",
   "metadata": {},
   "source": [
    "Por lo que vemos en los diferentes planes, este valor es común. EL valor **1.2.840.10008.5.1.4.1.1.481.5** corresponde a un _Radiation Therapy Plan Storage_."
   ]
  },
  {
   "cell_type": "markdown",
   "metadata": {},
   "source": [
    "#### SOPInstanceUID y SeriesInstanceUID"
   ]
  },
  {
   "cell_type": "markdown",
   "metadata": {},
   "source": [
    "En el caso de estos dos valores las cosas no están tan claras. Parece que poseeen el mismo prefijo que sus equivalentes en el fichero de imagen. La segunda parte corresponde a un número aleatorio de entre 39 y 40 cifras separado en grupos de 10 por puntos. Así pues los generamos con el siguiente código:"
   ]
  },
  {
   "cell_type": "code",
   "execution_count": 49,
   "metadata": {},
   "outputs": [
    {
     "data": {
      "text/plain": [
       "'1.3.6.1.4.1.2452.6.2615407535.8834935661.0130770635.823510730'"
      ]
     },
     "execution_count": 49,
     "metadata": {},
     "output_type": "execute_result"
    }
   ],
   "source": [
    "prefix='1.3.6.1.4.1.2452.6.'\n",
    "def UIDgenerator(prefix):\n",
    "    while True:\n",
    "        uid=str(uuid.uuid4().int)\n",
    "        if (len(uid)>=39):\n",
    "             return prefix+uid[0:10]+'.'+uid[10:20]+'.'+uid[20:30]+'.'+uid[30:]\n",
    "UIDgenerator(prefix)"
   ]
  },
  {
   "cell_type": "markdown",
   "metadata": {},
   "source": [
    "## Tags no comunes"
   ]
  },
  {
   "cell_type": "markdown",
   "metadata": {},
   "source": [
    "### Tags no sequence"
   ]
  },
  {
   "cell_type": "markdown",
   "metadata": {},
   "source": [
    "<ul><li>ApprovalStatus</li><li>BrachyTreatmentTechnique</li><li>BrachyTreatmentType</li><li>InstanceCreationDate</li><li>InstanceCreationTime</li><li>InstitutionalDepartmentName</li><li>OperatorsName</li><li>RTPlanDate</li><li>RTPlanGeometry</li><li>RTPlanLabel</li><li>RTPlanName</li><li>RTPlanTime</li><li>TimezoneOffsetFromUTC</li></ul>"
   ]
  },
  {
   "cell_type": "markdown",
   "metadata": {},
   "source": [
    "#### ApprovalStatus\n",
    "\n",
    "El valor será **UNAPPROVED**"
   ]
  },
  {
   "cell_type": "markdown",
   "metadata": {},
   "source": [
    "#### BrachyTreatmentTechnique\n",
    "\n",
    "Pondremos valor **INTERSTITIAL**"
   ]
  },
  {
   "cell_type": "markdown",
   "metadata": {},
   "source": [
    "#### BrachyTreatmentType\n",
    "El valor es **HDR**"
   ]
  },
  {
   "cell_type": "markdown",
   "metadata": {},
   "source": [
    "#### InstanceCreationDate y InstanceCreationTime\n",
    "Fecha del día de la creación del plan en formato AAAAMMDD y la hora HHMMSS"
   ]
  },
  {
   "cell_type": "code",
   "execution_count": 50,
   "metadata": {},
   "outputs": [
    {
     "name": "stdout",
     "output_type": "stream",
     "text": [
      "20210326 221338\n"
     ]
    }
   ],
   "source": [
    "Hoy=datetime.today()\n",
    "print(Hoy.strftime(\"%Y%m%d\"),Hoy.strftime(\"%H%M%S\"))"
   ]
  },
  {
   "cell_type": "markdown",
   "metadata": {},
   "source": [
    "#### OperatorsName\n",
    "\n",
    "Cuanquiera. **Plan** por ejemplo."
   ]
  },
  {
   "cell_type": "markdown",
   "metadata": {},
   "source": [
    "#### RTPlanDate\n",
    "\n",
    "La misma que **InstanceCreationTime**"
   ]
  },
  {
   "cell_type": "markdown",
   "metadata": {},
   "source": [
    "#### RTPlanGeometry\n",
    "El valor es **PATIENT**"
   ]
  },
  {
   "cell_type": "markdown",
   "metadata": {},
   "source": [
    "#### RTPlanLabel y RTPlanName\n",
    "Por ejemplo **IRIMED** en ambos"
   ]
  },
  {
   "cell_type": "markdown",
   "metadata": {},
   "source": [
    "#### RTPlanTime\n",
    "El mismo valor que InstanceCreationTime"
   ]
  },
  {
   "cell_type": "markdown",
   "metadata": {},
   "source": [
    "#### TimezoneOffsetFromUTC\n",
    "La función que nos da el valor del tag se muestra a continuación"
   ]
  },
  {
   "cell_type": "code",
   "execution_count": 51,
   "metadata": {},
   "outputs": [],
   "source": [
    "def DiferenciaUTC(X='Europe/Madrid'):\n",
    "    delta=pytz.timezone(X).utcoffset(datetime.today())\n",
    "    delta=delta.days*24+delta.seconds//3600\n",
    "    return \"{:=+03d}00\".format(delta)"
   ]
  },
  {
   "cell_type": "code",
   "execution_count": 52,
   "metadata": {},
   "outputs": [
    {
     "data": {
      "text/plain": [
       "'+0100'"
      ]
     },
     "execution_count": 52,
     "metadata": {},
     "output_type": "execute_result"
    }
   ],
   "source": [
    "DiferenciaUTC()"
   ]
  },
  {
   "cell_type": "code",
   "execution_count": 53,
   "metadata": {},
   "outputs": [
    {
     "data": {
      "text/plain": [
       "'-0700'"
      ]
     },
     "execution_count": 53,
     "metadata": {},
     "output_type": "execute_result"
    }
   ],
   "source": [
    "DiferenciaUTC('US/Pacific')"
   ]
  },
  {
   "cell_type": "markdown",
   "metadata": {},
   "source": [
    "### Tags sequence"
   ]
  },
  {
   "cell_type": "markdown",
   "metadata": {},
   "source": [
    "La lista de tags de secuencia son los siguientes"
   ]
  },
  {
   "cell_type": "markdown",
   "metadata": {},
   "source": [
    "<ul><li>FractionGroupSequence</li><li>ReferencedStructureSetSequence</li><li>SourceSequence</li><li>TreatmentMachineSequence</li><li>ApplicationSetupSequence</li></ul>"
   ]
  },
  {
   "cell_type": "markdown",
   "metadata": {},
   "source": [
    "Salvo que se diga lo contrario siempre nos referiremos a la posición 0 de la secuencia"
   ]
  },
  {
   "cell_type": "markdown",
   "metadata": {},
   "source": [
    "#### FractionGroupSequence\n",
    "Dejaremos el siguiente tag por defecto"
   ]
  },
  {
   "cell_type": "code",
   "execution_count": 54,
   "metadata": {
    "tags": [
     "remove-input"
    ]
   },
   "outputs": [
    {
     "name": "stdout",
     "output_type": "stream",
     "text": [
      "(300a, 0071) Fraction Group Number               IS: \"1\"\n",
      "(300a, 0078) Number of Fractions Planned         IS: \"1\"\n",
      "(300a, 0080) Number of Beams                     IS: \"0\"\n",
      "(300a, 00a0) Number of Brachy Application Setups IS: \"1\"\n",
      "(300c, 000a)  Referenced Brachy Application Setup Sequence  1 item(s) ---- \n",
      "   (300c, 000c) Referenced Brachy Application Setup IS: \"0\"\n",
      "   ---------\n"
     ]
    }
   ],
   "source": [
    "print(plansimple.data_element('FractionGroupSequence').value[0])"
   ]
  },
  {
   "cell_type": "markdown",
   "metadata": {},
   "source": [
    "#### ReferencedStructureSetSequence\n",
    "El aspecto del tag es el siguiente:"
   ]
  },
  {
   "cell_type": "code",
   "execution_count": 55,
   "metadata": {
    "tags": [
     "remove-input"
    ]
   },
   "outputs": [
    {
     "name": "stdout",
     "output_type": "stream",
     "text": [
      "(0008, 1150) Referenced SOP Class UID            UI: RT Structure Set Storage\n",
      "(0008, 1155) Referenced SOP Instance UID         UI: 1.3.6.1.4.1.2452.6.2664562426.1288265039.467152794.2028798075\n"
     ]
    }
   ],
   "source": [
    "print(plansimple.data_element('ReferencedStructureSetSequence').value[0])"
   ]
  },
  {
   "cell_type": "markdown",
   "metadata": {},
   "source": [
    "Simplemente debemos localizar en el fichero de estructuras los campos SOPClassUID y SOPInstanceUID e incorporar esos valores a los sub tags. "
   ]
  },
  {
   "cell_type": "markdown",
   "metadata": {},
   "source": [
    "#### SourceSequence\n",
    "Esta secuencia tiene el siguiente aspecto:"
   ]
  },
  {
   "cell_type": "code",
   "execution_count": 56,
   "metadata": {},
   "outputs": [
    {
     "name": "stdout",
     "output_type": "stream",
     "text": [
      "(300a, 0212) Source Number                       IS: \"0\"\n",
      "(300a, 0214) Source Type                         CS: 'LINE'\n",
      "(300a, 0226) Source Isotope Name                 LO: 'Ir-192'\n",
      "(300a, 0228) Source Isotope Half Life            DS: \"73.81\"\n",
      "(300a, 0229) Source Strength Units               CS: 'AIR_KERMA_RATE'\n",
      "(300a, 022a) Reference Air Kerma Rate            DS: \"21733.8274231908\"\n",
      "(300a, 022c) Source Strength Reference Date      DA: '20210323'\n",
      "(300a, 022e) Source Strength Reference Time      TM: '090355'\n",
      "(300b, 0010) Private Creator                     LO: 'NUCLETRON'\n",
      "(300b, 1006) Private tag data                    DS: \"-100663.0\"\n",
      "(300b, 1007) Private tag data                    DS: \"-100693.0\"\n",
      "(300b, 1008) Private tag data                    DT: '20201229143800'\n",
      "(300b, 100c) Private tag data                    DS: None\n"
     ]
    }
   ],
   "source": [
    "print(plansimple.data_element('SourceSequence').value[0])"
   ]
  },
  {
   "cell_type": "markdown",
   "metadata": {},
   "source": [
    "Ignoraremos los private tag data. Para los campos **ReferenceAirKermaRate**,**SourceStrength ReferenceDate** y **SourceStrengthReferenceTime** tenemos dos opciones: O ponemos valores genéricos de fuente, lo más cómodo, o ponemos los valores de la funete que vayamos a utilizar. Lo demás se puede dejar como en el ejemplo "
   ]
  },
  {
   "cell_type": "markdown",
   "metadata": {},
   "source": [
    "#### ApplicationSetupSequence\n",
    "En el ejemplo siguiente los dos primeros tags pueden quedar tal cual."
   ]
  },
  {
   "cell_type": "markdown",
   "metadata": {},
   "source": [
    "```\n",
    "(300a, 0232) Application Setup Type              CS: 'GYNECOLOGY'\n",
    "(300a, 0234) Application Setup Number            IS: \"0\"\n",
    "(300a, 0250) Total Reference Air Kerma           DS: \"3315.31795903434\"\n",
    "```"
   ]
  },
  {
   "cell_type": "markdown",
   "metadata": {},
   "source": [
    "El tercero lo podemos calcular como el cociente entre el campo **ReferenceAirKermaRate** y el tiempo total de radiación expresado en horas que será la suma de los tiempos totales de cada fuente, en nuestro caso 1, y de cada uno de los canales."
   ]
  },
  {
   "cell_type": "markdown",
   "metadata": {},
   "source": [
    "Para el ejemplo que nos ocupa el plan se llama plancomplejo2 y los valores que buscamos son:"
   ]
  },
  {
   "cell_type": "code",
   "execution_count": 57,
   "metadata": {},
   "outputs": [
    {
     "name": "stdout",
     "output_type": "stream",
     "text": [
      "3315.317959034321\n"
     ]
    }
   ],
   "source": [
    "ReferenceAirKermaRate=plancomplejo2.data_element('SourceSequence').value[0].ReferenceAirKermaRate\n",
    "Secuencia=plancomplejo2.data_element('ApplicationSetupSequence').value[0]\n",
    "TiempoTotal=(Secuencia.ChannelSequence[0].ChannelTotalTime+Secuencia.ChannelSequence[1].ChannelTotalTime+Secuencia.ChannelSequence[2].ChannelTotalTime)/3600\n",
    "TotalReferenceAirKerma=ReferenceAirKermaRate*TiempoTotal\n",
    "print(TotalReferenceAirKerma)"
   ]
  },
  {
   "cell_type": "markdown",
   "metadata": {},
   "source": [
    "Que como vemos coincide con lo que había en la cabecera. Con respecto al tiempo total, podemos elegir el tiempo que queramos por posición. Este cálculo lo hacemos para que simplemente sea consistente el fichero.\n",
    "Por otra parte veamos ahora el aspecto de cada uno de los ChannelSequence"
   ]
  },
  {
   "cell_type": "code",
   "execution_count": 58,
   "metadata": {
    "tags": [
     "remove-input"
    ]
   },
   "outputs": [
    {
     "data": {
      "text/plain": [
       "(3006, 0084) Referenced ROI Number               IS: None\n",
       "(300a, 0110) Number of Control Points            IS: \"14\"\n",
       "(300a, 0282) Channel Number                      IS: \"1\"\n",
       "(300a, 0284) Channel Length                      DS: \"1500.0\"\n",
       "(300a, 0286) Channel Total Time                  DS: \"82.6262964446422\"\n",
       "(300a, 0288) Source Movement Type                CS: 'STEPWISE'\n",
       "(300a, 0290) Source Applicator Number            IS: \"1\"\n",
       "(300a, 0291) Source Applicator ID                SH: '1'\n",
       "(300a, 0292) Source Applicator Type              CS: 'FLEXIBLE'\n",
       "(300a, 0294) Source Applicator Name              LO: ''\n",
       "(300a, 0296) Source Applicator Length            DS: \"37.0503443100255\"\n",
       "(300a, 02a0) Source Applicator Step Size         DS: \"2.5\"\n",
       "(300a, 02a2) Transfer Tube Number                IS: \"1\"\n",
       "(300a, 02a4) Transfer Tube Length                DS: None\n",
       "(300a, 02c8) Final Cumulative Time Weight        DS: \"6.33436977863312\"\n",
       "(300a, 02d0)  Brachy Control Point Sequence  14 item(s) ---- \n",
       "   (300a, 0112) Control Point Index                 IS: \"0\"\n",
       "   (300a, 02d2) Control Point Relative Position     DS: \"0.0\"\n",
       "   (300a, 02d4) Control Point 3D Position           DS: [-24.010310, 4.792519, 9.751305]\n",
       "   (300a, 02d6) Cumulative Time Weight              DS: \"0.0\"\n",
       "   ---------\n",
       "   (300a, 0112) Control Point Index                 IS: \"1\"\n",
       "   (300a, 02d2) Control Point Relative Position     DS: \"0.0\"\n",
       "   (300a, 02d4) Control Point 3D Position           DS: [-24.010310, 4.792519, 9.751305]\n",
       "   (300a, 02d6) Cumulative Time Weight              DS: \"0.57552659511566\"\n",
       "   ---------\n",
       "   (300a, 0112) Control Point Index                 IS: \"2\"\n",
       "   (300a, 02d2) Control Point Relative Position     DS: \"2.5\"\n",
       "   (300a, 02d4) Control Point 3D Position           DS: [-24.178212, 2.907082, 8.118230]\n",
       "   (300a, 02d6) Cumulative Time Weight              DS: \"0.57552659511566\"\n",
       "   ---------\n",
       "   (300a, 0112) Control Point Index                 IS: \"3\"\n",
       "   (300a, 02d2) Control Point Relative Position     DS: \"2.5\"\n",
       "   (300a, 02d4) Control Point 3D Position           DS: [-24.178212, 2.907082, 8.118230]\n",
       "   (300a, 02d6) Cumulative Time Weight              DS: \"1.61264073848724\"\n",
       "   ---------\n",
       "   (300a, 0112) Control Point Index                 IS: \"4\"\n",
       "   (300a, 02d2) Control Point Relative Position     DS: \"5.0\"\n",
       "   (300a, 02d4) Control Point 3D Position           DS: [-24.345899, 1.034678, 6.470917]\n",
       "   (300a, 02d6) Cumulative Time Weight              DS: \"1.61264073848724\"\n",
       "   ---------\n",
       "   (300a, 0112) Control Point Index                 IS: \"5\"\n",
       "   (300a, 02d2) Control Point Relative Position     DS: \"5.0\"\n",
       "   (300a, 02d4) Control Point 3D Position           DS: [-24.345899, 1.034678, 6.470917]\n",
       "   (300a, 02d6) Cumulative Time Weight              DS: \"2.60867154598236\"\n",
       "   ---------\n",
       "   (300a, 0112) Control Point Index                 IS: \"6\"\n",
       "   (300a, 02d2) Control Point Relative Position     DS: \"7.5\"\n",
       "   (300a, 02d4) Control Point 3D Position           DS: [-24.512237, -0.755723, 4.734024]\n",
       "   (300a, 02d6) Cumulative Time Weight              DS: \"2.60867154598236\"\n",
       "   ---------\n",
       "   (300a, 0112) Control Point Index                 IS: \"7\"\n",
       "   (300a, 02d2) Control Point Relative Position     DS: \"7.5\"\n",
       "   (300a, 02d4) Control Point 3D Position           DS: [-24.512237, -0.755723, 4.734024]\n",
       "   (300a, 02d6) Cumulative Time Weight              DS: \"3.57875949144363\"\n",
       "   ---------\n",
       "   (300a, 0112) Control Point Index                 IS: \"8\"\n",
       "   (300a, 02d2) Control Point Relative Position     DS: \"10.0\"\n",
       "   (300a, 02d4) Control Point 3D Position           DS: [-24.674082, -2.433228, 2.889942]\n",
       "   (300a, 02d6) Cumulative Time Weight              DS: \"3.57875949144363\"\n",
       "   ---------\n",
       "   (300a, 0112) Control Point Index                 IS: \"9\"\n",
       "   (300a, 02d2) Control Point Relative Position     DS: \"10.0\"\n",
       "   (300a, 02d4) Control Point 3D Position           DS: [-24.674082, -2.433228, 2.889942]\n",
       "   (300a, 02d6) Cumulative Time Weight              DS: \"4.52699571847916\"\n",
       "   ---------\n",
       "   (300a, 0112) Control Point Index                 IS: \"10\"\n",
       "   (300a, 02d2) Control Point Relative Position     DS: \"12.5\"\n",
       "   (300a, 02d4) Control Point 3D Position           DS: [-24.784139, -3.891006, 0.885583]\n",
       "   (300a, 02d6) Cumulative Time Weight              DS: \"4.52699571847916\"\n",
       "   ---------\n",
       "   (300a, 0112) Control Point Index                 IS: \"11\"\n",
       "   (300a, 02d2) Control Point Relative Position     DS: \"12.5\"\n",
       "   (300a, 02d4) Control Point 3D Position           DS: [-24.784139, -3.891006, 0.885583]\n",
       "   (300a, 02d6) Cumulative Time Weight              DS: \"5.44629615545273\"\n",
       "   ---------\n",
       "   (300a, 0112) Control Point Index                 IS: \"12\"\n",
       "   (300a, 02d2) Control Point Relative Position     DS: \"15.0\"\n",
       "   (300a, 02d4) Control Point 3D Position           DS: [-24.834048, -4.986355, -1.359250]\n",
       "   (300a, 02d6) Cumulative Time Weight              DS: \"5.44629615545273\"\n",
       "   ---------\n",
       "   (300a, 0112) Control Point Index                 IS: \"13\"\n",
       "   (300a, 02d2) Control Point Relative Position     DS: \"15.0\"\n",
       "   (300a, 02d4) Control Point 3D Position           DS: [-24.834048, -4.986355, -1.359250]\n",
       "   (300a, 02d6) Cumulative Time Weight              DS: \"6.33436977863312\"\n",
       "   ---------\n",
       "(300b, 0010) Private Creator                     LO: 'NUCLETRON'\n",
       "(300b, 1000) Private tag data                    IS: \"0\"\n",
       "(300b, 100e) Private tag data                    DS: \"1.0\"\n",
       "(300b, 1013) Private tag data                    LO: 'NO_MODEL_ID'\n",
       "(300b, 1027) Private tag data                    DS: \"6.0\"\n",
       "(300b, 1032) Private tag data                    DS: \"0.0\"\n",
       "(300c, 000e) Referenced Source Number            IS: \"0\""
      ]
     },
     "execution_count": 58,
     "metadata": {},
     "output_type": "execute_result"
    }
   ],
   "source": [
    "Secuencia.ChannelSequence[0]"
   ]
  },
  {
   "cell_type": "markdown",
   "metadata": {},
   "source": [
    "Ignoramos como siempre los campos privados. Del tiempo total ya hemos hablado así que lo saltaremos. El **SourceApplicatorLength** debe ser mayor que el recorrido total que hace la fuente a través de los canales. Parece que coincide con lo que reconstruimos sobre la imagen. Al **FinalCumulativeTimeWeight** le pasa lo mismo que al tiempo, mientras sea consistente no pasa nada. Vamos ahora al **BrachyControlPointSequence**.\n",
    "Siempre tendrá un número par de elementos, veamos un ejemplo:"
   ]
  },
  {
   "cell_type": "code",
   "execution_count": 59,
   "metadata": {
    "tags": [
     "remove-input"
    ]
   },
   "outputs": [
    {
     "data": {
      "text/plain": [
       "(300a, 0112) Control Point Index                 IS: \"6\"\n",
       "(300a, 02d2) Control Point Relative Position     DS: \"7.5\"\n",
       "(300a, 02d4) Control Point 3D Position           DS: [-24.512237, -0.755723, 4.734024]\n",
       "(300a, 02d6) Cumulative Time Weight              DS: \"2.60867154598236\""
      ]
     },
     "execution_count": 59,
     "metadata": {},
     "output_type": "execute_result"
    }
   ],
   "source": [
    "Secuencia.ChannelSequence[0].BrachyControlPointSequence[6]"
   ]
  },
  {
   "cell_type": "code",
   "execution_count": 60,
   "metadata": {
    "tags": [
     "remove-input"
    ]
   },
   "outputs": [
    {
     "data": {
      "text/plain": [
       "(300a, 0112) Control Point Index                 IS: \"7\"\n",
       "(300a, 02d2) Control Point Relative Position     DS: \"7.5\"\n",
       "(300a, 02d4) Control Point 3D Position           DS: [-24.512237, -0.755723, 4.734024]\n",
       "(300a, 02d6) Cumulative Time Weight              DS: \"3.57875949144363\""
      ]
     },
     "execution_count": 60,
     "metadata": {},
     "output_type": "execute_result"
    }
   ],
   "source": [
    "Secuencia.ChannelSequence[0].BrachyControlPointSequence[7]"
   ]
  },
  {
   "cell_type": "markdown",
   "metadata": {},
   "source": [
    "Los elementos van numerados de manera correlativa por un índice. La posición relativa es un múltiplo del paso de fuente, en este caso 2.5. El **ControlPoint3DPosition** nos vendrá del programa de reconstrucción descrito en el capítulo sobre [anotación](capitulo:anotation). El **CumulativeTimeWeight** al igual que el tiempo lo definiremos consistente con lo que elijamos para cada canal"
   ]
  }
 ],
 "metadata": {
  "kernelspec": {
   "display_name": "JBook",
   "language": "python",
   "name": "other-env"
  },
  "language_info": {
   "codemirror_mode": {
    "name": "ipython",
    "version": 3
   },
   "file_extension": ".py",
   "mimetype": "text/x-python",
   "name": "python",
   "nbconvert_exporter": "python",
   "pygments_lexer": "ipython3",
   "version": "3.9.2"
  }
 },
 "nbformat": 4,
 "nbformat_minor": 5
}
